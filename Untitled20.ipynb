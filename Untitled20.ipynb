{
 "cells": [
  {
   "cell_type": "code",
   "execution_count": 1,
   "id": "650aca3b",
   "metadata": {},
   "outputs": [
    {
     "name": "stdout",
     "output_type": "stream",
     "text": [
      "Requirement already satisfied: gensim in c:\\users\\dell\\anaconda3\\lib\\site-packages (4.3.0)\n",
      "Collecting gensim\n",
      "  Downloading gensim-4.3.3-cp311-cp311-win_amd64.whl (24.0 MB)\n",
      "                                              0.0/24.0 MB ? eta -:--:--\n",
      "                                              0.5/24.0 MB 9.4 MB/s eta 0:00:03\n",
      "     ---                                      2.2/24.0 MB 23.1 MB/s eta 0:00:01\n",
      "     ------                                   4.0/24.0 MB 28.5 MB/s eta 0:00:01\n",
      "     ----------                               6.2/24.0 MB 33.0 MB/s eta 0:00:01\n",
      "     --------------                           8.4/24.0 MB 35.9 MB/s eta 0:00:01\n",
      "     -----------------                       10.5/24.0 MB 40.9 MB/s eta 0:00:01\n",
      "     --------------------                    12.5/24.0 MB 43.5 MB/s eta 0:00:01\n",
      "     -----------------------                 14.5/24.0 MB 43.5 MB/s eta 0:00:01\n",
      "     ---------------------------             16.6/24.0 MB 46.7 MB/s eta 0:00:01\n",
      "     -------------------------------         19.2/24.0 MB 43.7 MB/s eta 0:00:01\n",
      "     -----------------------------------     21.7/24.0 MB 46.9 MB/s eta 0:00:01\n",
      "     --------------------------------------  23.6/24.0 MB 46.7 MB/s eta 0:00:01\n",
      "     --------------------------------------  24.0/24.0 MB 46.7 MB/s eta 0:00:01\n",
      "     --------------------------------------  24.0/24.0 MB 46.7 MB/s eta 0:00:01\n",
      "     --------------------------------------  24.0/24.0 MB 46.7 MB/s eta 0:00:01\n",
      "     --------------------------------------  24.0/24.0 MB 46.7 MB/s eta 0:00:01\n",
      "     --------------------------------------- 24.0/24.0 MB 25.2 MB/s eta 0:00:00\n",
      "Requirement already satisfied: numpy<2.0,>=1.18.5 in c:\\users\\dell\\anaconda3\\lib\\site-packages (from gensim) (1.24.3)\n",
      "Requirement already satisfied: scipy<1.14.0,>=1.7.0 in c:\\users\\dell\\anaconda3\\lib\\site-packages (from gensim) (1.10.1)\n",
      "Requirement already satisfied: smart-open>=1.8.1 in c:\\users\\dell\\anaconda3\\lib\\site-packages (from gensim) (5.2.1)\n",
      "Installing collected packages: gensim\n",
      "  Attempting uninstall: gensim\n",
      "    Found existing installation: gensim 4.3.0\n",
      "    Uninstalling gensim-4.3.0:\n",
      "      Successfully uninstalled gensim-4.3.0\n",
      "Successfully installed gensim-4.3.3\n",
      "Note: you may need to restart the kernel to use updated packages.\n"
     ]
    }
   ],
   "source": [
    "pip install --upgrade gensim"
   ]
  },
  {
   "cell_type": "code",
   "execution_count": 2,
   "id": "a1a824a5",
   "metadata": {},
   "outputs": [],
   "source": [
    "import gensim\n",
    "from gensim.models import word2vec\n",
    "from gensim.models import keyedvectors\n",
    "from sklearn.metrics.pairwise import cosine_similarity"
   ]
  },
  {
   "cell_type": "code",
   "execution_count": 5,
   "id": "50066755",
   "metadata": {},
   "outputs": [],
   "source": [
    "# word_vectors=keyedvectors.load_word2vec_format(\"../D:/GoogleNews-vectors-negative300.bin\")\n",
    "\n",
    "from gensim.models import KeyedVectors\n",
    "\n",
    "word_vectors = KeyedVectors.load_word2vec_format(\"D:/GoogleNews-vectors-negative300.bin\", binary=True)\n"
   ]
  },
  {
   "cell_type": "code",
   "execution_count": 6,
   "id": "7e76c2dd",
   "metadata": {},
   "outputs": [],
   "source": [
    "v_apple=word_vectors[\"apple\"]\n",
    "v_mango=word_vectors[\"mango\"]"
   ]
  },
  {
   "cell_type": "code",
   "execution_count": 7,
   "id": "6a402f08",
   "metadata": {},
   "outputs": [
    {
     "name": "stdout",
     "output_type": "stream",
     "text": [
      "(300,)\n",
      "(300,)\n"
     ]
    }
   ],
   "source": [
    "print(v_apple.shape)\n",
    "print(v_mango.shape)\n"
   ]
  },
  {
   "cell_type": "code",
   "execution_count": 8,
   "id": "a30b7791",
   "metadata": {},
   "outputs": [
    {
     "data": {
      "text/plain": [
       "array([[0.57518554]], dtype=float32)"
      ]
     },
     "execution_count": 8,
     "metadata": {},
     "output_type": "execute_result"
    }
   ],
   "source": [
    "cosine_similarity([v_mango],[v_apple])"
   ]
  },
  {
   "cell_type": "code",
   "execution_count": 10,
   "id": "d1d6825f",
   "metadata": {},
   "outputs": [],
   "source": [
    "import numpy as np\n",
    "import scipy\n"
   ]
  },
  {
   "cell_type": "code",
   "execution_count": 32,
   "id": "6f3dcfcd",
   "metadata": {},
   "outputs": [
    {
     "name": "stdout",
     "output_type": "stream",
     "text": [
      "{1, 'h'}\n",
      "{1, 'e'}\n",
      "{1, 'l'}\n"
     ]
    },
    {
     "ename": "TypeError",
     "evalue": "'set' object does not support item assignment",
     "output_type": "error",
     "traceback": [
      "\u001b[1;31m---------------------------------------------------------------------------\u001b[0m",
      "\u001b[1;31mTypeError\u001b[0m                                 Traceback (most recent call last)",
      "Cell \u001b[1;32mIn[32], line 2\u001b[0m\n\u001b[0;32m      1\u001b[0m a\u001b[38;5;241m=\u001b[39m\u001b[38;5;124m\"\u001b[39m\u001b[38;5;124mhello hello helli\u001b[39m\u001b[38;5;124m\"\u001b[39m\n\u001b[1;32m----> 2\u001b[0m \u001b[43mwindow\u001b[49m\u001b[43m(\u001b[49m\u001b[43ma\u001b[49m\u001b[43m)\u001b[49m\n",
      "Cell \u001b[1;32mIn[31], line 8\u001b[0m, in \u001b[0;36mwindow\u001b[1;34m(a)\u001b[0m\n\u001b[0;32m      5\u001b[0m count\u001b[38;5;241m=\u001b[39m\u001b[38;5;241m0\u001b[39m\n\u001b[0;32m      6\u001b[0m \u001b[38;5;28;01mif\u001b[39;00m(a \u001b[38;5;129;01min\u001b[39;00m l ):\n\u001b[0;32m      7\u001b[0m     \u001b[38;5;66;03m#l.update({a,count+1});\u001b[39;00m\n\u001b[1;32m----> 8\u001b[0m     \u001b[43ml\u001b[49m\u001b[43m[\u001b[49m\u001b[38;5;124;43m\"\u001b[39;49m\u001b[38;5;124;43ma\u001b[39;49m\u001b[38;5;124;43m\"\u001b[39;49m\u001b[43m]\u001b[49m \u001b[38;5;241m=\u001b[39m \u001b[38;5;241m2\u001b[39m\n\u001b[0;32m     11\u001b[0m l\u001b[38;5;241m=\u001b[39m{a,count\u001b[38;5;241m+\u001b[39m\u001b[38;5;241m1\u001b[39m}\n\u001b[0;32m     13\u001b[0m \u001b[38;5;28mprint\u001b[39m(l)\n",
      "\u001b[1;31mTypeError\u001b[0m: 'set' object does not support item assignment"
     ]
    }
   ],
   "source": [
    "a=\"hello hello helli\"\n",
    "window(a)"
   ]
  },
  {
   "cell_type": "code",
   "execution_count": 31,
   "id": "252b0e28",
   "metadata": {},
   "outputs": [],
   "source": [
    "def window(a):\n",
    "    l={};\n",
    "    \n",
    "    for a in a:\n",
    "        count=0\n",
    "        if(a in l ):\n",
    "            #l.update({a,count+1});\n",
    "            l[\"a\"] = 2\n",
    "            \n",
    "            \n",
    "        l={a,count+1}\n",
    "            \n",
    "        print(l)\n",
    " \n",
    "        \n",
    "    "
   ]
  },
  {
   "cell_type": "code",
   "execution_count": 33,
   "id": "1f21d44d",
   "metadata": {},
   "outputs": [
    {
     "name": "stdout",
     "output_type": "stream",
     "text": [
      "[72, 101, 108, 108, 111]\n"
     ]
    }
   ],
   "source": [
    "def word_to_ascii(word):\n",
    "\n",
    "    ascii_values = [ord(char) for char in word]  \n",
    "\n",
    "    return ascii_values\n",
    "\n",
    "\n",
    "\n",
    "print(word_to_ascii(\"Hello\"))  # Output: [72, 101, 108, 108, 111] \n"
   ]
  },
  {
   "cell_type": "code",
   "execution_count": 42,
   "id": "1513d0e1",
   "metadata": {},
   "outputs": [],
   "source": [
    "def genratetable(text,k=4):\n",
    "    d={}\n",
    "    for i in range(len(text)-k):\n",
    "\n",
    "        t=text[i:i+k]\n",
    "        p=text[i+k]\n",
    "        if t in d:\n",
    "            d[t][p]=d[t].get(p,0)+1\n",
    "\n",
    "        else:\n",
    "            d[t]={p:1}\n",
    "    return d\n",
    "    "
   ]
  },
  {
   "cell_type": "code",
   "execution_count": 43,
   "id": "0f6429bd",
   "metadata": {},
   "outputs": [
    {
     "name": "stdout",
     "output_type": "stream",
     "text": [
      "{'hell': {'o': 2, 'i': 1}, 'ello': {' ': 2}, 'llo ': {'h': 2}, 'lo h': {'e': 2}, 'o he': {'l': 2}, ' hel': {'l': 2}}\n"
     ]
    }
   ],
   "source": [
    "t=genratetable(\"hello hello helli\")\n",
    "print(t)"
   ]
  },
  {
   "cell_type": "code",
   "execution_count": 49,
   "id": "c938f417",
   "metadata": {},
   "outputs": [],
   "source": [
    "def genrateprob(text,k=4):\n",
    "    prob=genratetable(text,k=4)\n",
    "    for w in prob:\n",
    "        tc=sum(prob[w].values())\n",
    "        for c in prob[w]:\n",
    "            prob[w][c] /=tc\n",
    "            \n",
    "    return prob"
   ]
  },
  {
   "cell_type": "raw",
   "id": "45fbb9c7",
   "metadata": {},
   "source": []
  },
  {
   "cell_type": "code",
   "execution_count": 58,
   "id": "5da58ea9",
   "metadata": {},
   "outputs": [
    {
     "name": "stdout",
     "output_type": "stream",
     "text": [
      "{'hell': {'o': 0.6666666666666666, 'i': 0.3333333333333333}, 'ello': {' ': 1.0}, 'llo ': {'h': 1.0}, 'lo h': {'e': 1.0}, 'o he': {'l': 1.0}, ' hel': {'l': 1.0}}\n"
     ]
    }
   ],
   "source": [
    "T=genrateprob(\"hello hello helli\",4)\n",
    "print(T)"
   ]
  },
  {
   "cell_type": "code",
   "execution_count": 64,
   "id": "975c2ea8",
   "metadata": {},
   "outputs": [],
   "source": [
    "def nextSequenceChar(seq,prob):\n",
    "    if seq not in prob:\n",
    "        return ' '\n",
    "    \n",
    "    else:\n",
    "        return np.random.choice(list(prob[seq].keys()),p=list(prob[seq].values()))"
   ]
  },
  {
   "cell_type": "code",
   "execution_count": 65,
   "id": "127fc6f9",
   "metadata": {},
   "outputs": [
    {
     "data": {
      "text/plain": [
       "'i'"
      ]
     },
     "execution_count": 65,
     "metadata": {},
     "output_type": "execute_result"
    }
   ],
   "source": [
    "\n",
    "nextSequenceChar(\"hell\",T)"
   ]
  },
  {
   "cell_type": "code",
   "execution_count": 66,
   "id": "441a25ef",
   "metadata": {},
   "outputs": [
    {
     "name": "stdout",
     "output_type": "stream",
     "text": [
      "o\n",
      "i\n",
      "i\n",
      "o\n",
      "o\n",
      "o\n",
      "o\n",
      "o\n",
      "o\n",
      "o\n"
     ]
    }
   ],
   "source": [
    "for i in range(10):\n",
    "    print(nextSequenceChar(\"hell\",T))"
   ]
  },
  {
   "cell_type": "code",
   "execution_count": 69,
   "id": "518a6802",
   "metadata": {},
   "outputs": [],
   "source": [
    "def generateText(intial_text,prob,max_len=10,k=4):\n",
    "    seq=intial_text[-k:]\n",
    "    g_text=intial_text\n",
    "    for i in range(max_len):\n",
    "        ch=nextSequenceChar(seq,prob)\n",
    "        g_text=g_text+ch\n",
    "        seq=g_text[-k:]\n",
    "    return g_text"
   ]
  },
  {
   "cell_type": "code",
   "execution_count": 70,
   "id": "787ee22e",
   "metadata": {},
   "outputs": [
    {
     "data": {
      "text/plain": [
       "'hello hello helli       '"
      ]
     },
     "execution_count": 70,
     "metadata": {},
     "output_type": "execute_result"
    }
   ],
   "source": [
    "generateText(\"hell\",T,max_len=20)"
   ]
  },
  {
   "cell_type": "code",
   "execution_count": 71,
   "id": "5230776d",
   "metadata": {},
   "outputs": [],
   "source": [
    "def markovProcess(text,seed_text,k=4,max_len=100):\n",
    "    prob=genrateprob(text.k)\n",
    "    g_text=generateText(seed,prob,max_len,k)\n",
    "    return g_text\n",
    "    "
   ]
  },
  {
   "cell_type": "code",
   "execution_count": null,
   "id": "cf7726e3",
   "metadata": {},
   "outputs": [],
   "source": []
  }
 ],
 "metadata": {
  "kernelspec": {
   "display_name": "Python 3 (ipykernel)",
   "language": "python",
   "name": "python3"
  },
  "language_info": {
   "codemirror_mode": {
    "name": "ipython",
    "version": 3
   },
   "file_extension": ".py",
   "mimetype": "text/x-python",
   "name": "python",
   "nbconvert_exporter": "python",
   "pygments_lexer": "ipython3",
   "version": "3.11.3"
  }
 },
 "nbformat": 4,
 "nbformat_minor": 5
}
