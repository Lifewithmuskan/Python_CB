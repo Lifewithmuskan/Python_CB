{
 "cells": [
  {
   "cell_type": "code",
   "execution_count": 1,
   "id": "8901a978",
   "metadata": {},
   "outputs": [
    {
     "name": "stdout",
     "output_type": "stream",
     "text": [
      "Requirement already satisfied: numpy in c:\\users\\dell\\anaconda3\\lib\\site-packages (1.24.3)\n"
     ]
    }
   ],
   "source": [
    "!pip install numpy\n",
    "#mathmatical operation perform by numpy"
   ]
  },
  {
   "cell_type": "code",
   "execution_count": 2,
   "id": "58475b50",
   "metadata": {},
   "outputs": [],
   "source": [
    "import numpy as np"
   ]
  },
  {
   "cell_type": "code",
   "execution_count": 7,
   "id": "a851dcca",
   "metadata": {},
   "outputs": [],
   "source": [
    "a=np.array([1,2,3,4,5]) #vector\n",
    "a=np.array([[1,2,3,4,5]]) #metric"
   ]
  },
  {
   "cell_type": "code",
   "execution_count": 4,
   "id": "f32f76be",
   "metadata": {},
   "outputs": [
    {
     "data": {
      "text/plain": [
       "numpy.ndarray"
      ]
     },
     "execution_count": 4,
     "metadata": {},
     "output_type": "execute_result"
    }
   ],
   "source": [
    "type(a)"
   ]
  },
  {
   "cell_type": "code",
   "execution_count": 5,
   "id": "183461fe",
   "metadata": {},
   "outputs": [
    {
     "data": {
      "text/plain": [
       "(5,)"
      ]
     },
     "execution_count": 5,
     "metadata": {},
     "output_type": "execute_result"
    }
   ],
   "source": [
    "a.shape #(5,) this shape is consider as vector"
   ]
  },
  {
   "cell_type": "code",
   "execution_count": 8,
   "id": "035e9112",
   "metadata": {},
   "outputs": [
    {
     "data": {
      "text/plain": [
       "(1, 5)"
      ]
     },
     "execution_count": 8,
     "metadata": {},
     "output_type": "execute_result"
    }
   ],
   "source": [
    "a.shape # (1,5) this shape is consider as metric"
   ]
  },
  {
   "cell_type": "code",
   "execution_count": 9,
   "id": "10061aaa",
   "metadata": {},
   "outputs": [],
   "source": [
    "#randomly generate some value "
   ]
  },
  {
   "cell_type": "code",
   "execution_count": 10,
   "id": "806ef76a",
   "metadata": {},
   "outputs": [],
   "source": [
    "import random "
   ]
  },
  {
   "cell_type": "code",
   "execution_count": 14,
   "id": "1bce8dac",
   "metadata": {},
   "outputs": [],
   "source": [
    "np.random.random?\n",
    "''''#Docstring:\n",
    "random(size=None)\n",
    "\n",
    "Return random floats in the half-open interval [0.0, 1.0). Alias for\n",
    "`random_sample` to ease forward-porting to the new random API.\n",
    "Type:      builtin_function_or_method'''\n",
    "#shift + F\n"
   ]
  },
  {
   "cell_type": "code",
   "execution_count": 15,
   "id": "e37c26d4",
   "metadata": {},
   "outputs": [
    {
     "data": {
      "text/plain": [
       "array([[0.87544378, 0.07759919, 0.38869177],\n",
       "       [0.87972425, 0.2184962 , 0.73062034],\n",
       "       [0.29965353, 0.72473595, 0.04876599]])"
      ]
     },
     "execution_count": 15,
     "metadata": {},
     "output_type": "execute_result"
    }
   ],
   "source": [
    "np.random.random((3,3)) #random disrtibution "
   ]
  },
  {
   "cell_type": "code",
   "execution_count": 17,
   "id": "f1fac0cb",
   "metadata": {},
   "outputs": [
    {
     "data": {
      "text/plain": [
       "array([[0.54762157],\n",
       "       [0.09233787],\n",
       "       [0.41033296],\n",
       "       [0.04257125],\n",
       "       [0.2374598 ],\n",
       "       [0.18792513],\n",
       "       [0.24681723],\n",
       "       [0.55984877],\n",
       "       [0.09802388]])"
      ]
     },
     "execution_count": 17,
     "metadata": {},
     "output_type": "execute_result"
    }
   ],
   "source": [
    "np.random.random((3,3)).reshape((9,-1))  #.reshape change the shape here we need 9 col and we don't care about the row"
   ]
  },
  {
   "cell_type": "code",
   "execution_count": 18,
   "id": "27c9e8c8",
   "metadata": {},
   "outputs": [
    {
     "data": {
      "text/plain": [
       "array([[0., 0., 0.],\n",
       "       [0., 0., 0.],\n",
       "       [0., 0., 0.]])"
      ]
     },
     "execution_count": 18,
     "metadata": {},
     "output_type": "execute_result"
    }
   ],
   "source": [
    "np.zeros((3,3)) # it create a matric of 0 zero and first you have to define the shape (3,3)"
   ]
  },
  {
   "cell_type": "code",
   "execution_count": 19,
   "id": "c54af043",
   "metadata": {},
   "outputs": [
    {
     "data": {
      "text/plain": [
       "array([[1, 1, 1],\n",
       "       [1, 1, 1],\n",
       "       [1, 1, 1]])"
      ]
     },
     "execution_count": 19,
     "metadata": {},
     "output_type": "execute_result"
    }
   ],
   "source": [
    "np.ones((3,3),dtype='int')"
   ]
  },
  {
   "cell_type": "code",
   "execution_count": 20,
   "id": "067cc239",
   "metadata": {},
   "outputs": [
    {
     "data": {
      "text/plain": [
       "array([[5, 5, 5],\n",
       "       [5, 5, 5],\n",
       "       [5, 5, 5]])"
      ]
     },
     "execution_count": 20,
     "metadata": {},
     "output_type": "execute_result"
    }
   ],
   "source": [
    "np.full((3,3),5)"
   ]
  },
  {
   "cell_type": "code",
   "execution_count": 23,
   "id": "817659e4",
   "metadata": {},
   "outputs": [
    {
     "data": {
      "text/plain": [
       "array([[1., 0.],\n",
       "       [0., 1.]])"
      ]
     },
     "execution_count": 23,
     "metadata": {},
     "output_type": "execute_result"
    }
   ],
   "source": [
    "np.eye(2,2)"
   ]
  },
  {
   "cell_type": "code",
   "execution_count": 26,
   "id": "74e2c547",
   "metadata": {},
   "outputs": [
    {
     "data": {
      "text/plain": [
       "array([[1, 0, 0, 0],\n",
       "       [0, 1, 0, 0],\n",
       "       [0, 0, 1, 0],\n",
       "       [0, 0, 0, 1]])"
      ]
     },
     "execution_count": 26,
     "metadata": {},
     "output_type": "execute_result"
    }
   ],
   "source": [
    "np.eye(4,4,dtype=('int'))"
   ]
  },
  {
   "cell_type": "code",
   "execution_count": 32,
   "id": "245954a8",
   "metadata": {},
   "outputs": [
    {
     "name": "stdout",
     "output_type": "stream",
     "text": [
      "[[0.55765807 0.93528807 0.05404276]\n",
      " [0.89235412 0.0287628  0.13439008]\n",
      " [0.47244053 0.72666277 0.10622847]]\n"
     ]
    }
   ],
   "source": [
    "rn=np.random.random((3,3))\n",
    "print(rn)"
   ]
  },
  {
   "cell_type": "code",
   "execution_count": 33,
   "id": "70722e4c",
   "metadata": {},
   "outputs": [
    {
     "data": {
      "text/plain": [
       "array([0.55765807, 0.89235412, 0.47244053])"
      ]
     },
     "execution_count": 33,
     "metadata": {},
     "output_type": "execute_result"
    }
   ],
   "source": [
    "rn[:,0]"
   ]
  },
  {
   "cell_type": "code",
   "execution_count": 34,
   "id": "1162c121",
   "metadata": {},
   "outputs": [
    {
     "name": "stdout",
     "output_type": "stream",
     "text": [
      "[[0.74276682 0.37519303 0.80063392 0.34954284 0.223016   0.62337781\n",
      "  0.14715861]\n",
      " [0.4721974  0.61602217 0.30907506 0.31867435 0.12041373 0.33227043\n",
      "  0.05886602]\n",
      " [0.29252492 0.82904328 0.29729121 0.61718894 0.68270434 0.37685504\n",
      "  0.29042401]\n",
      " [0.67044793 0.05131429 0.95930137 0.38433804 0.12150411 0.01966184\n",
      "  0.45864876]\n",
      " [0.95428197 0.0999628  0.56497005 0.58816384 0.66925252 0.61639525\n",
      "  0.65548194]]\n"
     ]
    }
   ],
   "source": [
    "rn=np.random.random((5,7))\n",
    "print(rn)"
   ]
  },
  {
   "cell_type": "code",
   "execution_count": 35,
   "id": "066ae9a2",
   "metadata": {},
   "outputs": [
    {
     "data": {
      "text/plain": [
       "array([[0.74276682, 0.37519303, 0.80063392],\n",
       "       [0.4721974 , 0.61602217, 0.30907506],\n",
       "       [0.29252492, 0.82904328, 0.29729121]])"
      ]
     },
     "execution_count": 35,
     "metadata": {},
     "output_type": "execute_result"
    }
   ],
   "source": [
    "rn[:3,:3]"
   ]
  },
  {
   "cell_type": "code",
   "execution_count": 36,
   "id": "211021de",
   "metadata": {},
   "outputs": [
    {
     "data": {
      "text/plain": [
       "array([], shape=(3, 0), dtype=float64)"
      ]
     },
     "execution_count": 36,
     "metadata": {},
     "output_type": "execute_result"
    }
   ],
   "source": [
    "rn[:3,19:]"
   ]
  },
  {
   "cell_type": "code",
   "execution_count": 37,
   "id": "ed2299c2",
   "metadata": {},
   "outputs": [
    {
     "data": {
      "text/plain": [
       "array([[0.4721974 , 0.61602217, 0.30907506, 0.31867435, 0.12041373,\n",
       "        0.33227043, 0.05886602],\n",
       "       [0.29252492, 0.82904328, 0.29729121, 0.61718894, 0.68270434,\n",
       "        0.37685504, 0.29042401],\n",
       "       [0.67044793, 0.05131429, 0.95930137, 0.38433804, 0.12150411,\n",
       "        0.01966184, 0.45864876],\n",
       "       [0.95428197, 0.0999628 , 0.56497005, 0.58816384, 0.66925252,\n",
       "        0.61639525, 0.65548194]])"
      ]
     },
     "execution_count": 37,
     "metadata": {},
     "output_type": "execute_result"
    }
   ],
   "source": [
    "rn[1:5,:]"
   ]
  },
  {
   "cell_type": "code",
   "execution_count": 39,
   "id": "01e0b0b7",
   "metadata": {},
   "outputs": [],
   "source": [
    "x=np.array([[1,2],[3,4]])\n",
    "y=np.array([[5,6],[7,8]])"
   ]
  },
  {
   "cell_type": "code",
   "execution_count": 40,
   "id": "a868d8c5",
   "metadata": {},
   "outputs": [
    {
     "name": "stdout",
     "output_type": "stream",
     "text": [
      "[[-4 -4]\n",
      " [-4 -4]] [[ 6  8]\n",
      " [10 12]] [[ 5 12]\n",
      " [21 32]] [[0.2        0.33333333]\n",
      " [0.42857143 0.5       ]]\n"
     ]
    }
   ],
   "source": [
    "print(x-y,x+y,x*y,x/y)"
   ]
  },
  {
   "cell_type": "code",
   "execution_count": 41,
   "id": "d062faff",
   "metadata": {},
   "outputs": [
    {
     "data": {
      "text/plain": [
       "(array([[ 6,  8],\n",
       "        [10, 12]]),\n",
       " array([[-4, -4],\n",
       "        [-4, -4]]),\n",
       " array([[ 5, 12],\n",
       "        [21, 32]]),\n",
       " array([[0.2       , 0.33333333],\n",
       "        [0.42857143, 0.5       ]]))"
      ]
     },
     "execution_count": 41,
     "metadata": {},
     "output_type": "execute_result"
    }
   ],
   "source": [
    "np.add(x,y),np.subtract(x,y),np.multiply(x,y),np.divide(x,y)"
   ]
  },
  {
   "cell_type": "code",
   "execution_count": 42,
   "id": "40dac5fe",
   "metadata": {},
   "outputs": [
    {
     "data": {
      "text/plain": [
       "12.0"
      ]
     },
     "execution_count": 42,
     "metadata": {},
     "output_type": "execute_result"
    }
   ],
   "source": [
    "np.sqrt(144)"
   ]
  },
  {
   "cell_type": "code",
   "execution_count": 43,
   "id": "e6f44e70",
   "metadata": {},
   "outputs": [
    {
     "data": {
      "text/plain": [
       "array([[19, 22],\n",
       "       [43, 50]])"
      ]
     },
     "execution_count": 43,
     "metadata": {},
     "output_type": "execute_result"
    }
   ],
   "source": [
    "np.matmul(x,y)"
   ]
  },
  {
   "cell_type": "code",
   "execution_count": 44,
   "id": "d99aa6a7",
   "metadata": {},
   "outputs": [
    {
     "data": {
      "text/plain": [
       "array([[19, 22],\n",
       "       [43, 50]])"
      ]
     },
     "execution_count": 44,
     "metadata": {},
     "output_type": "execute_result"
    }
   ],
   "source": [
    "np.dot(x,y)"
   ]
  },
  {
   "cell_type": "code",
   "execution_count": 45,
   "id": "a008adc7",
   "metadata": {},
   "outputs": [
    {
     "data": {
      "text/plain": [
       "array([[19, 22],\n",
       "       [43, 50]])"
      ]
     },
     "execution_count": 45,
     "metadata": {},
     "output_type": "execute_result"
    }
   ],
   "source": [
    "x@y"
   ]
  },
  {
   "cell_type": "code",
   "execution_count": 46,
   "id": "f57ecbdd",
   "metadata": {},
   "outputs": [
    {
     "data": {
      "text/plain": [
       "15"
      ]
     },
     "execution_count": 46,
     "metadata": {},
     "output_type": "execute_result"
    }
   ],
   "source": [
    "a=np.array([1,2,3,4,5])\n",
    "np.sum(a,axis=0) #axis =0 :,means operation along col. wise"
   ]
  },
  {
   "cell_type": "code",
   "execution_count": 49,
   "id": "97f79de5",
   "metadata": {},
   "outputs": [
    {
     "name": "stdout",
     "output_type": "stream",
     "text": [
      "[ 1  4  9 16 25]\n"
     ]
    }
   ],
   "source": [
    "b=a**2\n",
    "print(b)"
   ]
  },
  {
   "cell_type": "code",
   "execution_count": 50,
   "id": "73cebadd",
   "metadata": {},
   "outputs": [
    {
     "data": {
      "text/plain": [
       "array([ 1,  2,  3,  4,  5,  1,  4,  9, 16, 25])"
      ]
     },
     "execution_count": 50,
     "metadata": {},
     "output_type": "execute_result"
    }
   ],
   "source": [
    "np.hstack((a,b))"
   ]
  },
  {
   "cell_type": "code",
   "execution_count": 52,
   "id": "740e47d9",
   "metadata": {},
   "outputs": [
    {
     "data": {
      "text/plain": [
       "array([[ 1,  1],\n",
       "       [ 2,  4],\n",
       "       [ 3,  9],\n",
       "       [ 4, 16],\n",
       "       [ 5, 25]])"
      ]
     },
     "execution_count": 52,
     "metadata": {},
     "output_type": "execute_result"
    }
   ],
   "source": [
    "np.stack((a,b),axis=1)"
   ]
  },
  {
   "cell_type": "code",
   "execution_count": 53,
   "id": "e2cc3469",
   "metadata": {},
   "outputs": [],
   "source": [
    "#transpose matrix (it is non continous )"
   ]
  },
  {
   "cell_type": "code",
   "execution_count": 54,
   "id": "17c81081",
   "metadata": {},
   "outputs": [
    {
     "name": "stdout",
     "output_type": "stream",
     "text": [
      "[[0.58380888 0.57710584 0.51415413 0.39095327 0.61092102 0.36580018]\n",
      " [0.51020502 0.50280406 0.67759605 0.03228814 0.57110551 0.32913162]\n",
      " [0.36773886 0.98106689 0.67380065 0.42539445 0.65672522 0.0515629 ]\n",
      " [0.15808678 0.39846895 0.82647342 0.86210022 0.05267518 0.53040687]]\n"
     ]
    }
   ],
   "source": [
    "rn=np.random.random((4,6))\n",
    "print(rn)"
   ]
  },
  {
   "cell_type": "code",
   "execution_count": 59,
   "id": "ac731331",
   "metadata": {},
   "outputs": [
    {
     "name": "stdout",
     "output_type": "stream",
     "text": [
      "[[0.58380888 0.57710584 0.51415413 0.39095327 0.61092102 0.36580018]\n",
      " [0.51020502 0.50280406 0.67759605 0.03228814 0.57110551 0.32913162]\n",
      " [0.36773886 0.98106689 0.67380065 0.42539445 0.65672522 0.0515629 ]\n",
      " [0.15808678 0.39846895 0.82647342 0.86210022 0.05267518 0.53040687]]\n"
     ]
    }
   ],
   "source": [
    "rn.T.shape\n",
    "print(rn)"
   ]
  },
  {
   "cell_type": "code",
   "execution_count": 57,
   "id": "e75e5dd0",
   "metadata": {},
   "outputs": [
    {
     "name": "stdout",
     "output_type": "stream",
     "text": [
      "[[0.58380888 0.57710584 0.51415413 0.39095327 0.61092102 0.36580018]\n",
      " [0.51020502 0.50280406 0.67759605 0.03228814 0.57110551 0.32913162]\n",
      " [0.36773886 0.98106689 0.67380065 0.42539445 0.65672522 0.0515629 ]\n",
      " [0.15808678 0.39846895 0.82647342 0.86210022 0.05267518 0.53040687]]\n"
     ]
    }
   ],
   "source": [
    "#it does notbreak the continoues value of the matrix\n",
    "rn=rn.reshape((4,6))\n",
    "print(rn)"
   ]
  },
  {
   "cell_type": "code",
   "execution_count": 62,
   "id": "fb97c325",
   "metadata": {},
   "outputs": [
    {
     "data": {
      "text/plain": [
       "array([ 1,  4,  7, 10, 13, 16, 19])"
      ]
     },
     "execution_count": 62,
     "metadata": {},
     "output_type": "execute_result"
    }
   ],
   "source": [
    "np.arange(1,20,3)"
   ]
  },
  {
   "cell_type": "code",
   "execution_count": 63,
   "id": "52cbfc95",
   "metadata": {},
   "outputs": [
    {
     "data": {
      "text/plain": [
       "array([0, 1, 2, 3, 4, 5, 6, 7, 8, 9])"
      ]
     },
     "execution_count": 63,
     "metadata": {},
     "output_type": "execute_result"
    }
   ],
   "source": [
    "np.arange(10)"
   ]
  },
  {
   "cell_type": "code",
   "execution_count": 64,
   "id": "8223d405",
   "metadata": {},
   "outputs": [],
   "source": [
    "#np.random.random #uniform dis \n",
    "#np.random.rand   #normal discrete\n",
    "#np.random.randn \n",
    "#np.random.randint  # discrete uniform"
   ]
  },
  {
   "cell_type": "code",
   "execution_count": 65,
   "id": "5cb2fad5",
   "metadata": {},
   "outputs": [
    {
     "data": {
      "text/plain": [
       "array([[2, 2, 0],\n",
       "       [1, 2, 4]])"
      ]
     },
     "execution_count": 65,
     "metadata": {},
     "output_type": "execute_result"
    }
   ],
   "source": [
    "np.random.randint(5,size=(2,3))"
   ]
  },
  {
   "cell_type": "code",
   "execution_count": 66,
   "id": "58273760",
   "metadata": {},
   "outputs": [
    {
     "data": {
      "text/plain": [
       "array([[ 0.54697798,  0.18306476, -0.56583211, -0.16391168],\n",
       "       [ 0.5799775 , -1.46560231, -0.35103538,  0.08084622],\n",
       "       [-0.77408928, -1.23717093, -0.57402828, -0.80930038]])"
      ]
     },
     "execution_count": 66,
     "metadata": {},
     "output_type": "execute_result"
    }
   ],
   "source": [
    "np.random.randn(3,4)"
   ]
  },
  {
   "cell_type": "code",
   "execution_count": 67,
   "id": "8c154be6",
   "metadata": {},
   "outputs": [
    {
     "data": {
      "text/plain": [
       "array([[0.74305915, 0.96373725, 0.62430058],\n",
       "       [0.17787414, 0.50217736, 0.72141219]])"
      ]
     },
     "execution_count": 67,
     "metadata": {},
     "output_type": "execute_result"
    }
   ],
   "source": [
    "np.random.rand(2,3)"
   ]
  },
  {
   "cell_type": "code",
   "execution_count": 71,
   "id": "c2e2b668",
   "metadata": {},
   "outputs": [
    {
     "data": {
      "text/plain": [
       "array([[0.58380888, 0.57710584, 0.51415413, 0.39095327, 0.61092102,\n",
       "        0.36580018],\n",
       "       [0.51020502, 0.50280406, 0.67759605, 0.03228814, 0.57110551,\n",
       "        0.32913162],\n",
       "       [0.36773886, 0.98106689, 0.67380065, 0.42539445, 0.65672522,\n",
       "        0.0515629 ],\n",
       "       [0.15808678, 0.39846895, 0.82647342, 0.86210022, 0.05267518,\n",
       "        0.53040687]])"
      ]
     },
     "execution_count": 71,
     "metadata": {},
     "output_type": "execute_result"
    }
   ],
   "source": [
    "rn\n"
   ]
  },
  {
   "cell_type": "code",
   "execution_count": 78,
   "id": "8a54aade",
   "metadata": {},
   "outputs": [],
   "source": [
    "np.random.shuffle(rn)\n"
   ]
  },
  {
   "cell_type": "code",
   "execution_count": null,
   "id": "2dfcc7dd",
   "metadata": {},
   "outputs": [],
   "source": []
  },
  {
   "cell_type": "code",
   "execution_count": null,
   "id": "9642073c",
   "metadata": {},
   "outputs": [],
   "source": []
  }
 ],
 "metadata": {
  "kernelspec": {
   "display_name": "Python 3 (ipykernel)",
   "language": "python",
   "name": "python3"
  },
  "language_info": {
   "codemirror_mode": {
    "name": "ipython",
    "version": 3
   },
   "file_extension": ".py",
   "mimetype": "text/x-python",
   "name": "python",
   "nbconvert_exporter": "python",
   "pygments_lexer": "ipython3",
   "version": "3.11.3"
  }
 },
 "nbformat": 4,
 "nbformat_minor": 5
}
