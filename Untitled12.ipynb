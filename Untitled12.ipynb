{
 "cells": [
  {
   "cell_type": "code",
   "execution_count": null,
   "id": "581da5f6",
   "metadata": {},
   "outputs": [],
   "source": [
    "def backwardprop(self,X,y):\n",
    "    ypred=self.forward(X)\n",
    "    delta=ypred-y\n",
    "    wn=len(self.weights)//2\n",
    "    gradw=(delta@(self.outputs[wn-2].T)).T\n",
    "    self.weights[\"W\"+str(wn)]"
   ]
  },
  {
   "cell_type": "code",
   "execution_count": null,
   "id": "85206bae",
   "metadata": {},
   "outputs": [],
   "source": [
    "def backwardprop(self,X,y):\n",
    "    ypred=self.forward(X)\n",
    "    delta4=ypred-y\n",
    "    gradw4=((self.output[2].T)@delta4)\n",
    "    \n",
    "    delta3=(self.weight[\"W4\"]@delta4)*(self.output[2]*(1-self.output[2]))\n",
    "    gradw3((self.output[1].T)@delta3)\n",
    "    \n",
    "    delta2=(self.weight[\"W3\"]@delta3)*(self.output[2]*(1-self.output[2]))\n",
    "    gradw2=(delta3@(self.output[1].T)).T\n",
    "    \n",
    "    delta1=(self.weight[\"W2\"]@delta2)*(self.output[2]*(1-self.output[2]))\n",
    "    gradw1=(delta3@(self.output[1].T)).T\n",
    "    \n",
    "    "
   ]
  }
 ],
 "metadata": {
  "kernelspec": {
   "display_name": "Python 3 (ipykernel)",
   "language": "python",
   "name": "python3"
  },
  "language_info": {
   "codemirror_mode": {
    "name": "ipython",
    "version": 3
   },
   "file_extension": ".py",
   "mimetype": "text/x-python",
   "name": "python",
   "nbconvert_exporter": "python",
   "pygments_lexer": "ipython3",
   "version": "3.11.3"
  }
 },
 "nbformat": 4,
 "nbformat_minor": 5
}
