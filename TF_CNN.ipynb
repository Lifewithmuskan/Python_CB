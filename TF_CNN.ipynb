{
 "cells": [
  {
   "cell_type": "code",
   "execution_count": null,
   "id": "5f56bc5e-ebf2-4ca4-a8d9-eeeac5408a4d",
   "metadata": {},
   "outputs": [],
   "source": [
    "import tensorflow as tf\n",
    "from tensorflow import keras #sequential and functional API\n",
    "from tensorflow.keras import layers\n",
    "from tensorflow.keras.datasets import mnist\n",
    "import numpy as np\n",
    "import matplotlib.pyplot as plt"
   ]
  },
  {
   "cell_type": "code",
   "execution_count": null,
   "id": "a95e7740-e4e0-4c57-83b5-bffe8ea0bcfb",
   "metadata": {},
   "outputs": [],
   "source": [
    "(x_train,y_train),(x_test,y_test) = mnist.load_data()\n",
    "print(x_train.shape)\n",
    "print(y_train.shape)"
   ]
  },
  {
   "cell_type": "code",
   "execution_count": null,
   "id": "926e306a-550a-4428-a6fa-254413a5ba02",
   "metadata": {},
   "outputs": [],
   "source": [
    "plt.figure(figsize = (10,10))\n",
    "for i in range(1,26):\n",
    "  plt.subplot(5,5,i)\n",
    "  plt.imshow(x_train[i],cmap='gray')\n",
    "  plt.title(y_train[i])\n",
    "  plt.axis('off')\n",
    "plt.show()"
   ]
  },
  {
   "cell_type": "code",
   "execution_count": null,
   "id": "4046ad6b-1e60-4fd3-99c0-cf9b0c609902",
   "metadata": {},
   "outputs": [],
   "source": [
    "x_train = np.expand_dims(x_train,-1)\n",
    "x_test = np.expand_dims(x_test,-1)\n",
    "print(x_train.shape)\n",
    "print(x_test.shape)"
   ]
  },
  {
   "cell_type": "code",
   "execution_count": null,
   "id": "b474e496-dc9a-463c-8872-4510c904a012",
   "metadata": {},
   "outputs": [],
   "source": [
    "input_shape = (28,28,1)\n",
    "num_classes = 10\n",
    "\n",
    "model = keras.Sequential(\n",
    "    [\n",
    "        keras.Input(shape = input_shape),\n",
    "        keras.layers.Conv2D(32, kernel_size =  (3,3), activation = 'relu'),\n",
    "        keras.layers.MaxPool2D(pool_size = (2,2)),\n",
    "        keras.layers.Conv2D(64, kernel_size =  (3,3), strides = 2, padding = 'same', activation = 'relu'),\n",
    "        keras.layers.MaxPool2D(pool_size = (2,2)),\n",
    "        keras.layers.Flatten(),\n",
    "        keras.layers.Dense(128,activation='relu'),\n",
    "        keras.layers.Dense(num_classes,activation='softmax')\n",
    "        \n",
    "    ]\n",
    ")"
   ]
  },
  {
   "cell_type": "code",
   "execution_count": null,
   "id": "0a7e3fc5-17c9-4c83-b3cb-3bd8a4ef3388",
   "metadata": {},
   "outputs": [],
   "source": [
    "model.summary()"
   ]
  },
  {
   "cell_type": "code",
   "execution_count": null,
   "id": "56cb1046-a28d-4f6a-8ab8-6078489855d4",
   "metadata": {},
   "outputs": [],
   "source": [
    "!pip install pydot"
   ]
  },
  {
   "cell_type": "code",
   "execution_count": null,
   "id": "65a22ddc-486a-4f8c-a6f5-35fe7bcb098c",
   "metadata": {},
   "outputs": [],
   "source": [
    "pip show pydot"
   ]
  },
  {
   "cell_type": "code",
   "execution_count": null,
   "id": "689e4d60-16ab-4c07-b02c-c506fd3f14c1",
   "metadata": {},
   "outputs": [],
   "source": [
    "import pydot\n",
    "print(pydot.__version__)"
   ]
  },
  {
   "cell_type": "code",
   "execution_count": null,
   "id": "08e184a6-e964-41e5-92d5-57a2030e7e4b",
   "metadata": {},
   "outputs": [],
   "source": [
    "pip install --upgrade pydot"
   ]
  },
  {
   "cell_type": "code",
   "execution_count": null,
   "id": "cf348e89-80bd-42f1-a5ca-6be77b93b056",
   "metadata": {},
   "outputs": [],
   "source": [
    "pip list | grep pydot"
   ]
  },
  {
   "cell_type": "code",
   "execution_count": null,
   "id": "2229e5e7-d906-4b1c-8cc8-8fb733158a85",
   "metadata": {},
   "outputs": [],
   "source": [
    "import pkg_resources\n",
    "print(pkg_resources.get_distribution(\"pydot\").version)"
   ]
  },
  {
   "cell_type": "code",
   "execution_count": null,
   "id": "d4c507da-4177-4906-82e6-e2abf0d0e412",
   "metadata": {},
   "outputs": [],
   "source": [
    " pip install graphviz"
   ]
  },
  {
   "cell_type": "code",
   "execution_count": null,
   "id": "932391ee-1862-4327-96b5-9cb863a8e7e2",
   "metadata": {},
   "outputs": [],
   "source": [
    "\n",
    "keras.utils.plot_model(model, to_file = 'MNIST_CNN.png', show_shapes= True, show_layer_names= True)"
   ]
  },
  {
   "cell_type": "code",
   "execution_count": null,
   "id": "5465b015-946a-41bf-8d6f-1be40b62f0ac",
   "metadata": {},
   "outputs": [],
   "source": [
    "model.compile(optimizer = keras.optimizers.Adam(learning_rate = 1e-4),\n",
    "              loss = keras.losses.SparseCategoricalCrossentropy(from_logits = False), # --> do from_logits true only when the last activation layer is not softmax\n",
    "              metrics = ['accuracy']\n",
    ")"
   ]
  },
  {
   "cell_type": "code",
   "execution_count": null,
   "id": "51ca6bb0-f333-4549-a817-2f508193e2a0",
   "metadata": {},
   "outputs": [],
   "source": [
    "history = model.fit(x_train, y_train, batch_size=32, epochs=10, validation_split=0.1)"
   ]
  },
  {
   "cell_type": "code",
   "execution_count": null,
   "id": "75669c3a-871b-4bc7-ba93-fc48bc181ad1",
   "metadata": {},
   "outputs": [],
   "source": [
    "model.evaluate(x_test, y_test)"
   ]
  },
  {
   "cell_type": "code",
   "execution_count": null,
   "id": "3533e9e0-537b-480a-ac17-097a8ca94bec",
   "metadata": {},
   "outputs": [],
   "source": [
    "model.save(\"cnn_model\")\n",
    "model.save(\"cnn_model.h5\")"
   ]
  },
  {
   "cell_type": "code",
   "execution_count": null,
   "id": "64bb9a54",
   "metadata": {},
   "outputs": [],
   "source": []
  },
  {
   "cell_type": "code",
   "execution_count": null,
   "id": "a87f09df",
   "metadata": {},
   "outputs": [],
   "source": []
  }
 ],
 "metadata": {
  "kernelspec": {
   "display_name": "Python 3 (ipykernel)",
   "language": "python",
   "name": "python3"
  },
  "language_info": {
   "codemirror_mode": {
    "name": "ipython",
    "version": 3
   },
   "file_extension": ".py",
   "mimetype": "text/x-python",
   "name": "python",
   "nbconvert_exporter": "python",
   "pygments_lexer": "ipython3",
   "version": "3.11.3"
  },
  "widgets": {
   "application/vnd.jupyter.widget-state+json": {
    "state": {},
    "version_major": 2,
    "version_minor": 0
   }
  }
 },
 "nbformat": 4,
 "nbformat_minor": 5
}
