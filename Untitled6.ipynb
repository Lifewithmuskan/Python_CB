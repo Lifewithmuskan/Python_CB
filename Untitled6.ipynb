{
 "cells": [
  {
   "cell_type": "code",
   "execution_count": 17,
   "id": "6e8d2dff",
   "metadata": {},
   "outputs": [],
   "source": [
    "#PANDAS\n",
    "#data frame is list of list\n",
    "#series is list \n",
    "import pandas as pd\n",
    "import numpy as np"
   ]
  },
  {
   "cell_type": "code",
   "execution_count": 18,
   "id": "ad23f944",
   "metadata": {},
   "outputs": [
    {
     "name": "stdout",
     "output_type": "stream",
     "text": [
      "apple         37\n",
      "mango         23\n",
      "orange        76\n",
      "watermelon    64\n",
      "dtype: int64\n"
     ]
    }
   ],
   "source": [
    "fruits=[\"apple\",\"mango\",\"orange\",\"watermelon\"];\n",
    "q1=[20,10,45,32]\n",
    "q2=[17,13,31,32]\n",
    "x=pd.Series(q1,index=fruits)\n",
    "x1=pd.Series(q2,index=fruits)\n",
    "print(x+x1)"
   ]
  },
  {
   "cell_type": "code",
   "execution_count": 19,
   "id": "49fa3d29",
   "metadata": {},
   "outputs": [
    {
     "name": "stdout",
     "output_type": "stream",
     "text": [
      "apple          NaN\n",
      "lemon          NaN\n",
      "mango         23.0\n",
      "orange        76.0\n",
      "peaches        NaN\n",
      "watermelon     NaN\n",
      "dtype: float64\n"
     ]
    }
   ],
   "source": [
    "fruits2=[\"peaches\",\"mango\",\"orange\",\"lemon\"];\n",
    "s1=pd.Series(q1,index=fruits)\n",
    "s2=pd.Series(q2,index=fruits2)\n",
    "print(s1+s2)"
   ]
  },
  {
   "cell_type": "code",
   "execution_count": 20,
   "id": "2dd21c06",
   "metadata": {},
   "outputs": [
    {
     "name": "stdout",
     "output_type": "stream",
     "text": [
      "20\n",
      "mango     10\n",
      "apple     20\n",
      "orange    45\n",
      "dtype: int64\n"
     ]
    }
   ],
   "source": [
    "print(s1['apple'])\n",
    "print(s1[[\"mango\",\"apple\",\"orange\"]])"
   ]
  },
  {
   "cell_type": "code",
   "execution_count": 21,
   "id": "a4fa068a",
   "metadata": {},
   "outputs": [
    {
     "name": "stdout",
     "output_type": "stream",
     "text": [
      "apple         46\n",
      "mango         26\n",
      "orange        96\n",
      "watermelon    70\n",
      "dtype: int64\n",
      "peaches   -0.961397\n",
      "mango      0.420167\n",
      "orange    -0.404038\n",
      "lemon      0.551427\n",
      "dtype: float64\n"
     ]
    }
   ],
   "source": [
    "print((s1+3)*2)\n",
    "print((np.sin(s2)))"
   ]
  },
  {
   "cell_type": "code",
   "execution_count": 22,
   "id": "0690564c",
   "metadata": {},
   "outputs": [
    {
     "name": "stdout",
     "output_type": "stream",
     "text": [
      "apple         20\n",
      "mango         10\n",
      "orange        45\n",
      "watermelon    32\n",
      "dtype: int64\n"
     ]
    }
   ],
   "source": [
    "print(s1)"
   ]
  },
  {
   "cell_type": "code",
   "execution_count": 26,
   "id": "a8901c6e",
   "metadata": {},
   "outputs": [
    {
     "data": {
      "text/plain": [
       "apple         2.995732\n",
       "mango         2.302585\n",
       "orange        3.806662\n",
       "watermelon    3.465736\n",
       "dtype: float64"
      ]
     },
     "execution_count": 26,
     "metadata": {},
     "output_type": "execute_result"
    }
   ],
   "source": [
    "s1.apply(np.log)"
   ]
  },
  {
   "cell_type": "code",
   "execution_count": 27,
   "id": "818fbf3e",
   "metadata": {},
   "outputs": [
    {
     "data": {
      "text/plain": [
       "apple         2.995732\n",
       "mango         2.302585\n",
       "orange        3.806662\n",
       "watermelon    3.465736\n",
       "dtype: float64"
      ]
     },
     "execution_count": 27,
     "metadata": {},
     "output_type": "execute_result"
    }
   ],
   "source": [
    "np.log(s1)"
   ]
  },
  {
   "cell_type": "code",
   "execution_count": 25,
   "id": "7a822dab",
   "metadata": {},
   "outputs": [
    {
     "data": {
      "text/plain": [
       "apple         30\n",
       "mango         20\n",
       "orange        55\n",
       "watermelon    42\n",
       "dtype: int64"
      ]
     },
     "execution_count": 25,
     "metadata": {},
     "output_type": "execute_result"
    }
   ],
   "source": [
    "s1.apply(lambda x:x if x > 50 else x+10)"
   ]
  },
  {
   "cell_type": "markdown",
   "id": "02ffea92",
   "metadata": {},
   "source": [
    "Creating series from dictionary "
   ]
  },
  {
   "cell_type": "code",
   "execution_count": 28,
   "id": "fa34dd93",
   "metadata": {},
   "outputs": [
    {
     "name": "stdout",
     "output_type": "stream",
     "text": [
      "london    1234\n",
      "Berlin    4567\n",
      "Madrid    5678\n",
      "Rome      2545\n",
      "Paris     6597\n",
      "Vienna    4398\n",
      "Munich    9857\n",
      "Milan     3242\n",
      "dtype: int64\n"
     ]
    }
   ],
   "source": [
    "cities = {\n",
    "    \"london\": 1234,\n",
    "    \"Berlin\": 4567,\n",
    "    \"Madrid\": 5678,\n",
    "    \"Rome\": 2545,\n",
    "    \"Paris\": 6597,\n",
    "    \"Vienna\": 4398,\n",
    "    \"Munich\": 9857,\n",
    "    \"Milan\": 3242\n",
    "}\n",
    "\n",
    "y = pd.Series(cities)\n",
    "print(y)"
   ]
  },
  {
   "cell_type": "code",
   "execution_count": 31,
   "id": "ac6cc2aa",
   "metadata": {},
   "outputs": [
    {
     "data": {
      "text/plain": [
       "london    1234.0\n",
       "paris        NaN\n",
       "delhi        NaN\n",
       "zurich       NaN\n",
       "berlin       NaN\n",
       "dtype: float64"
      ]
     },
     "execution_count": 31,
     "metadata": {},
     "output_type": "execute_result"
    }
   ],
   "source": [
    "my_cities=[\"london\",\"paris\",\"delhi\",\"zurich\",\"berlin\"]\n",
    "my_cities_series=pd.Series(cities,index=my_cities)\n",
    "my_cities_series"
   ]
  },
  {
   "cell_type": "code",
   "execution_count": 32,
   "id": "239e1ca3",
   "metadata": {},
   "outputs": [
    {
     "data": {
      "text/plain": [
       "london    False\n",
       "paris      True\n",
       "delhi      True\n",
       "zurich     True\n",
       "berlin     True\n",
       "dtype: bool"
      ]
     },
     "execution_count": 32,
     "metadata": {},
     "output_type": "execute_result"
    }
   ],
   "source": [
    "my_cities_series.isnull()"
   ]
  },
  {
   "cell_type": "code",
   "execution_count": 33,
   "id": "d6739054",
   "metadata": {},
   "outputs": [
    {
     "data": {
      "text/plain": [
       "london     True\n",
       "paris     False\n",
       "delhi     False\n",
       "zurich    False\n",
       "berlin    False\n",
       "dtype: bool"
      ]
     },
     "execution_count": 33,
     "metadata": {},
     "output_type": "execute_result"
    }
   ],
   "source": [
    "my_cities_series.notnull()"
   ]
  },
  {
   "cell_type": "code",
   "execution_count": 34,
   "id": "1488e324",
   "metadata": {},
   "outputs": [
    {
     "name": "stdout",
     "output_type": "stream",
     "text": [
      "a     4.0\n",
      "b     NaN\n",
      "c     5.0\n",
      "d    20.0\n",
      "dtype: float64\n"
     ]
    },
    {
     "data": {
      "text/plain": [
       "a    False\n",
       "b     True\n",
       "c    False\n",
       "d    False\n",
       "dtype: bool"
      ]
     },
     "execution_count": 34,
     "metadata": {},
     "output_type": "execute_result"
    }
   ],
   "source": [
    "#differnce between NaN and not None\n",
    "d={'a':4,'b':None ,'c':5,'d':20}\n",
    "s=pd.Series(d)\n",
    "print(s)\n",
    "pd.isnull(s)\n"
   ]
  },
  {
   "cell_type": "code",
   "execution_count": 36,
   "id": "24b78705",
   "metadata": {},
   "outputs": [
    {
     "name": "stdout",
     "output_type": "stream",
     "text": [
      "london    1234.0\n",
      "paris        0.0\n",
      "delhi        0.0\n",
      "zurich       0.0\n",
      "berlin       0.0\n",
      "dtype: float64\n"
     ]
    }
   ],
   "source": [
    "print(my_cities_series.fillna(0))"
   ]
  },
  {
   "cell_type": "code",
   "execution_count": 40,
   "id": "8108ef90",
   "metadata": {},
   "outputs": [
    {
     "data": {
      "text/plain": [
       "london    1234.0\n",
       "paris        NaN\n",
       "delhi        NaN\n",
       "zurich       NaN\n",
       "berlin       NaN\n",
       "dtype: float64"
      ]
     },
     "execution_count": 40,
     "metadata": {},
     "output_type": "execute_result"
    }
   ],
   "source": [
    "missing={\"Delhi\":2456,\"Zurich\":5678}\n",
    "my_cities_series.fillna(missing)"
   ]
  },
  {
   "cell_type": "markdown",
   "id": "a660c392",
   "metadata": {},
   "source": [
    "DataFrames"
   ]
  },
  {
   "cell_type": "code",
   "execution_count": 42,
   "id": "925768cd",
   "metadata": {},
   "outputs": [
    {
     "data": {
      "text/html": [
       "<div>\n",
       "<style scoped>\n",
       "    .dataframe tbody tr th:only-of-type {\n",
       "        vertical-align: middle;\n",
       "    }\n",
       "\n",
       "    .dataframe tbody tr th {\n",
       "        vertical-align: top;\n",
       "    }\n",
       "\n",
       "    .dataframe thead th {\n",
       "        text-align: right;\n",
       "    }\n",
       "</style>\n",
       "<table border=\"1\" class=\"dataframe\">\n",
       "  <thead>\n",
       "    <tr style=\"text-align: right;\">\n",
       "      <th></th>\n",
       "      <th>0</th>\n",
       "      <th>1</th>\n",
       "      <th>2</th>\n",
       "    </tr>\n",
       "  </thead>\n",
       "  <tbody>\n",
       "    <tr>\n",
       "      <th>0</th>\n",
       "      <td>123</td>\n",
       "      <td>234</td>\n",
       "      <td>434</td>\n",
       "    </tr>\n",
       "    <tr>\n",
       "      <th>1</th>\n",
       "      <td>456</td>\n",
       "      <td>768</td>\n",
       "      <td>878</td>\n",
       "    </tr>\n",
       "    <tr>\n",
       "      <th>2</th>\n",
       "      <td>789</td>\n",
       "      <td>234</td>\n",
       "      <td>678</td>\n",
       "    </tr>\n",
       "    <tr>\n",
       "      <th>3</th>\n",
       "      <td>432</td>\n",
       "      <td>565</td>\n",
       "      <td>123</td>\n",
       "    </tr>\n",
       "  </tbody>\n",
       "</table>\n",
       "</div>"
      ],
      "text/plain": [
       "     0    1    2\n",
       "0  123  234  434\n",
       "1  456  768  878\n",
       "2  789  234  678\n",
       "3  432  565  123"
      ]
     },
     "execution_count": 42,
     "metadata": {},
     "output_type": "execute_result"
    }
   ],
   "source": [
    "years=range(2014,2018)\n",
    "s1=pd.Series([123,456,789,432])\n",
    "s2=pd.Series([234,768,234,565])\n",
    "s3=pd.Series([434,878,678,123])\n",
    "df=pd.concat([s1,s2,s3],axis=1)\n",
    "df"
   ]
  },
  {
   "cell_type": "code",
   "execution_count": 43,
   "id": "3a836745",
   "metadata": {},
   "outputs": [
    {
     "data": {
      "text/html": [
       "<div>\n",
       "<style scoped>\n",
       "    .dataframe tbody tr th:only-of-type {\n",
       "        vertical-align: middle;\n",
       "    }\n",
       "\n",
       "    .dataframe tbody tr th {\n",
       "        vertical-align: top;\n",
       "    }\n",
       "\n",
       "    .dataframe thead th {\n",
       "        text-align: right;\n",
       "    }\n",
       "</style>\n",
       "<table border=\"1\" class=\"dataframe\">\n",
       "  <thead>\n",
       "    <tr style=\"text-align: right;\">\n",
       "      <th></th>\n",
       "      <th>0</th>\n",
       "      <th>1</th>\n",
       "      <th>2</th>\n",
       "    </tr>\n",
       "  </thead>\n",
       "  <tbody>\n",
       "    <tr>\n",
       "      <th>2014</th>\n",
       "      <td>123</td>\n",
       "      <td>234</td>\n",
       "      <td>434</td>\n",
       "    </tr>\n",
       "    <tr>\n",
       "      <th>2015</th>\n",
       "      <td>456</td>\n",
       "      <td>768</td>\n",
       "      <td>878</td>\n",
       "    </tr>\n",
       "    <tr>\n",
       "      <th>2016</th>\n",
       "      <td>789</td>\n",
       "      <td>234</td>\n",
       "      <td>678</td>\n",
       "    </tr>\n",
       "    <tr>\n",
       "      <th>2017</th>\n",
       "      <td>432</td>\n",
       "      <td>565</td>\n",
       "      <td>123</td>\n",
       "    </tr>\n",
       "  </tbody>\n",
       "</table>\n",
       "</div>"
      ],
      "text/plain": [
       "        0    1    2\n",
       "2014  123  234  434\n",
       "2015  456  768  878\n",
       "2016  789  234  678\n",
       "2017  432  565  123"
      ]
     },
     "execution_count": 43,
     "metadata": {},
     "output_type": "execute_result"
    }
   ],
   "source": [
    "years=range(2014,2018)\n",
    "s1=pd.Series([123,456,789,432],index=years)\n",
    "s2=pd.Series([234,768,234,565],index=years)\n",
    "s3=pd.Series([434,878,678,123],index=years)\n",
    "df=pd.concat([s1,s2,s3],axis=1)\n",
    "df"
   ]
  },
  {
   "cell_type": "code",
   "execution_count": 46,
   "id": "16357e00",
   "metadata": {},
   "outputs": [
    {
     "data": {
      "text/html": [
       "<div>\n",
       "<style scoped>\n",
       "    .dataframe tbody tr th:only-of-type {\n",
       "        vertical-align: middle;\n",
       "    }\n",
       "\n",
       "    .dataframe tbody tr th {\n",
       "        vertical-align: top;\n",
       "    }\n",
       "\n",
       "    .dataframe thead th {\n",
       "        text-align: right;\n",
       "    }\n",
       "</style>\n",
       "<table border=\"1\" class=\"dataframe\">\n",
       "  <thead>\n",
       "    <tr style=\"text-align: right;\">\n",
       "      <th></th>\n",
       "      <th>a</th>\n",
       "      <th>b</th>\n",
       "      <th>c</th>\n",
       "    </tr>\n",
       "  </thead>\n",
       "  <tbody>\n",
       "    <tr>\n",
       "      <th>2014</th>\n",
       "      <td>123</td>\n",
       "      <td>234</td>\n",
       "      <td>434</td>\n",
       "    </tr>\n",
       "    <tr>\n",
       "      <th>2015</th>\n",
       "      <td>456</td>\n",
       "      <td>768</td>\n",
       "      <td>878</td>\n",
       "    </tr>\n",
       "    <tr>\n",
       "      <th>2016</th>\n",
       "      <td>789</td>\n",
       "      <td>234</td>\n",
       "      <td>678</td>\n",
       "    </tr>\n",
       "    <tr>\n",
       "      <th>2017</th>\n",
       "      <td>432</td>\n",
       "      <td>565</td>\n",
       "      <td>123</td>\n",
       "    </tr>\n",
       "  </tbody>\n",
       "</table>\n",
       "</div>"
      ],
      "text/plain": [
       "        a    b    c\n",
       "2014  123  234  434\n",
       "2015  456  768  878\n",
       "2016  789  234  678\n",
       "2017  432  565  123"
      ]
     },
     "execution_count": 46,
     "metadata": {},
     "output_type": "execute_result"
    }
   ],
   "source": [
    "cities=['a','b','c']\n",
    "df.columns=cities\n",
    "df"
   ]
  },
  {
   "cell_type": "code",
   "execution_count": 47,
   "id": "1104e01f",
   "metadata": {},
   "outputs": [
    {
     "name": "stdout",
     "output_type": "stream",
     "text": [
      "<class 'pandas.core.frame.DataFrame'>\n"
     ]
    }
   ],
   "source": [
    "print(type(df))"
   ]
  },
  {
   "cell_type": "code",
   "execution_count": 67,
   "id": "9fdf8ea6",
   "metadata": {},
   "outputs": [],
   "source": [
    "cities = {\"City\":  [\"London\", \"Berlin\", \"Madrid\", \"Rome\",\n",
    "                    \"Paris\", \"Vienna\", \"Bucharest\", \"Hamburg\",\n",
    "                    \"Budapest\", \"Warsaw\", \"Barcelona\",\n",
    "                    \"Munich\", \"Milan\"],\n",
    "          \"population\": [8615246, 3562166, 3165235, 2874038,\n",
    "                         2273305, 1805681, 1803425, 1760433,\n",
    "                         1754000, 1740119, 1602386, 1493900,\n",
    "                         1350680],\n",
    "          \"country\": [\"England\", \"Germany\", \"Spain\", \"Italy\",\n",
    "                      \"France\", \"Austria\", \"Romania\",\n",
    "                      \"Germany\", \"Hungary\", \"Poland\", \"Spain\",\n",
    "                      \"Germany\", \"Italy\"] }"
   ]
  },
  {
   "cell_type": "code",
   "execution_count": 68,
   "id": "6121542e",
   "metadata": {},
   "outputs": [
    {
     "data": {
      "text/html": [
       "<div>\n",
       "<style scoped>\n",
       "    .dataframe tbody tr th:only-of-type {\n",
       "        vertical-align: middle;\n",
       "    }\n",
       "\n",
       "    .dataframe tbody tr th {\n",
       "        vertical-align: top;\n",
       "    }\n",
       "\n",
       "    .dataframe thead th {\n",
       "        text-align: right;\n",
       "    }\n",
       "</style>\n",
       "<table border=\"1\" class=\"dataframe\">\n",
       "  <thead>\n",
       "    <tr style=\"text-align: right;\">\n",
       "      <th></th>\n",
       "      <th>City</th>\n",
       "      <th>population</th>\n",
       "      <th>country</th>\n",
       "    </tr>\n",
       "  </thead>\n",
       "  <tbody>\n",
       "    <tr>\n",
       "      <th>0</th>\n",
       "      <td>London</td>\n",
       "      <td>8615246</td>\n",
       "      <td>England</td>\n",
       "    </tr>\n",
       "    <tr>\n",
       "      <th>1</th>\n",
       "      <td>Berlin</td>\n",
       "      <td>3562166</td>\n",
       "      <td>Germany</td>\n",
       "    </tr>\n",
       "    <tr>\n",
       "      <th>2</th>\n",
       "      <td>Madrid</td>\n",
       "      <td>3165235</td>\n",
       "      <td>Spain</td>\n",
       "    </tr>\n",
       "    <tr>\n",
       "      <th>3</th>\n",
       "      <td>Rome</td>\n",
       "      <td>2874038</td>\n",
       "      <td>Italy</td>\n",
       "    </tr>\n",
       "    <tr>\n",
       "      <th>4</th>\n",
       "      <td>Paris</td>\n",
       "      <td>2273305</td>\n",
       "      <td>France</td>\n",
       "    </tr>\n",
       "    <tr>\n",
       "      <th>5</th>\n",
       "      <td>Vienna</td>\n",
       "      <td>1805681</td>\n",
       "      <td>Austria</td>\n",
       "    </tr>\n",
       "    <tr>\n",
       "      <th>6</th>\n",
       "      <td>Bucharest</td>\n",
       "      <td>1803425</td>\n",
       "      <td>Romania</td>\n",
       "    </tr>\n",
       "    <tr>\n",
       "      <th>7</th>\n",
       "      <td>Hamburg</td>\n",
       "      <td>1760433</td>\n",
       "      <td>Germany</td>\n",
       "    </tr>\n",
       "    <tr>\n",
       "      <th>8</th>\n",
       "      <td>Budapest</td>\n",
       "      <td>1754000</td>\n",
       "      <td>Hungary</td>\n",
       "    </tr>\n",
       "    <tr>\n",
       "      <th>9</th>\n",
       "      <td>Warsaw</td>\n",
       "      <td>1740119</td>\n",
       "      <td>Poland</td>\n",
       "    </tr>\n",
       "    <tr>\n",
       "      <th>10</th>\n",
       "      <td>Barcelona</td>\n",
       "      <td>1602386</td>\n",
       "      <td>Spain</td>\n",
       "    </tr>\n",
       "    <tr>\n",
       "      <th>11</th>\n",
       "      <td>Munich</td>\n",
       "      <td>1493900</td>\n",
       "      <td>Germany</td>\n",
       "    </tr>\n",
       "    <tr>\n",
       "      <th>12</th>\n",
       "      <td>Milan</td>\n",
       "      <td>1350680</td>\n",
       "      <td>Italy</td>\n",
       "    </tr>\n",
       "  </tbody>\n",
       "</table>\n",
       "</div>"
      ],
      "text/plain": [
       "         City  population  country\n",
       "0      London     8615246  England\n",
       "1      Berlin     3562166  Germany\n",
       "2      Madrid     3165235    Spain\n",
       "3        Rome     2874038    Italy\n",
       "4       Paris     2273305   France\n",
       "5      Vienna     1805681  Austria\n",
       "6   Bucharest     1803425  Romania\n",
       "7     Hamburg     1760433  Germany\n",
       "8    Budapest     1754000  Hungary\n",
       "9      Warsaw     1740119   Poland\n",
       "10  Barcelona     1602386    Spain\n",
       "11     Munich     1493900  Germany\n",
       "12      Milan     1350680    Italy"
      ]
     },
     "execution_count": 68,
     "metadata": {},
     "output_type": "execute_result"
    }
   ],
   "source": [
    "df=pd.DataFrame(cities)\n",
    "df"
   ]
  },
  {
   "cell_type": "code",
   "execution_count": 69,
   "id": "daaa65ee",
   "metadata": {},
   "outputs": [
    {
     "data": {
      "text/html": [
       "<div>\n",
       "<style scoped>\n",
       "    .dataframe tbody tr th:only-of-type {\n",
       "        vertical-align: middle;\n",
       "    }\n",
       "\n",
       "    .dataframe tbody tr th {\n",
       "        vertical-align: top;\n",
       "    }\n",
       "\n",
       "    .dataframe thead th {\n",
       "        text-align: right;\n",
       "    }\n",
       "</style>\n",
       "<table border=\"1\" class=\"dataframe\">\n",
       "  <thead>\n",
       "    <tr style=\"text-align: right;\">\n",
       "      <th></th>\n",
       "      <th>City</th>\n",
       "      <th>population</th>\n",
       "      <th>country</th>\n",
       "    </tr>\n",
       "  </thead>\n",
       "  <tbody>\n",
       "    <tr>\n",
       "      <th>0</th>\n",
       "      <td>London</td>\n",
       "      <td>8615246</td>\n",
       "      <td>England</td>\n",
       "    </tr>\n",
       "    <tr>\n",
       "      <th>1</th>\n",
       "      <td>Berlin</td>\n",
       "      <td>3562166</td>\n",
       "      <td>Germany</td>\n",
       "    </tr>\n",
       "    <tr>\n",
       "      <th>2</th>\n",
       "      <td>Madrid</td>\n",
       "      <td>3165235</td>\n",
       "      <td>Spain</td>\n",
       "    </tr>\n",
       "    <tr>\n",
       "      <th>3</th>\n",
       "      <td>Rome</td>\n",
       "      <td>2874038</td>\n",
       "      <td>Italy</td>\n",
       "    </tr>\n",
       "    <tr>\n",
       "      <th>4</th>\n",
       "      <td>Paris</td>\n",
       "      <td>2273305</td>\n",
       "      <td>France</td>\n",
       "    </tr>\n",
       "    <tr>\n",
       "      <th>5</th>\n",
       "      <td>Vienna</td>\n",
       "      <td>1805681</td>\n",
       "      <td>Austria</td>\n",
       "    </tr>\n",
       "    <tr>\n",
       "      <th>6</th>\n",
       "      <td>Bucharest</td>\n",
       "      <td>1803425</td>\n",
       "      <td>Romania</td>\n",
       "    </tr>\n",
       "    <tr>\n",
       "      <th>7</th>\n",
       "      <td>Hamburg</td>\n",
       "      <td>1760433</td>\n",
       "      <td>Germany</td>\n",
       "    </tr>\n",
       "    <tr>\n",
       "      <th>8</th>\n",
       "      <td>Budapest</td>\n",
       "      <td>1754000</td>\n",
       "      <td>Hungary</td>\n",
       "    </tr>\n",
       "    <tr>\n",
       "      <th>9</th>\n",
       "      <td>Warsaw</td>\n",
       "      <td>1740119</td>\n",
       "      <td>Poland</td>\n",
       "    </tr>\n",
       "    <tr>\n",
       "      <th>10</th>\n",
       "      <td>Barcelona</td>\n",
       "      <td>1602386</td>\n",
       "      <td>Spain</td>\n",
       "    </tr>\n",
       "    <tr>\n",
       "      <th>11</th>\n",
       "      <td>Munich</td>\n",
       "      <td>1493900</td>\n",
       "      <td>Germany</td>\n",
       "    </tr>\n",
       "    <tr>\n",
       "      <th>12</th>\n",
       "      <td>Milan</td>\n",
       "      <td>1350680</td>\n",
       "      <td>Italy</td>\n",
       "    </tr>\n",
       "  </tbody>\n",
       "</table>\n",
       "</div>"
      ],
      "text/plain": [
       "         City  population  country\n",
       "0      London     8615246  England\n",
       "1      Berlin     3562166  Germany\n",
       "2      Madrid     3165235    Spain\n",
       "3        Rome     2874038    Italy\n",
       "4       Paris     2273305   France\n",
       "5      Vienna     1805681  Austria\n",
       "6   Bucharest     1803425  Romania\n",
       "7     Hamburg     1760433  Germany\n",
       "8    Budapest     1754000  Hungary\n",
       "9      Warsaw     1740119   Poland\n",
       "10  Barcelona     1602386    Spain\n",
       "11     Munich     1493900  Germany\n",
       "12      Milan     1350680    Italy"
      ]
     },
     "execution_count": 69,
     "metadata": {},
     "output_type": "execute_result"
    }
   ],
   "source": [
    "pd.DataFrame.from_dict(cities)"
   ]
  },
  {
   "cell_type": "code",
   "execution_count": 70,
   "id": "ededab84",
   "metadata": {},
   "outputs": [
    {
     "data": {
      "text/html": [
       "<div>\n",
       "<style scoped>\n",
       "    .dataframe tbody tr th:only-of-type {\n",
       "        vertical-align: middle;\n",
       "    }\n",
       "\n",
       "    .dataframe tbody tr th {\n",
       "        vertical-align: top;\n",
       "    }\n",
       "\n",
       "    .dataframe thead th {\n",
       "        text-align: right;\n",
       "    }\n",
       "</style>\n",
       "<table border=\"1\" class=\"dataframe\">\n",
       "  <thead>\n",
       "    <tr style=\"text-align: right;\">\n",
       "      <th></th>\n",
       "      <th>0</th>\n",
       "      <th>1</th>\n",
       "      <th>2</th>\n",
       "      <th>3</th>\n",
       "      <th>4</th>\n",
       "      <th>5</th>\n",
       "      <th>6</th>\n",
       "      <th>7</th>\n",
       "      <th>8</th>\n",
       "      <th>9</th>\n",
       "      <th>10</th>\n",
       "      <th>11</th>\n",
       "      <th>12</th>\n",
       "    </tr>\n",
       "  </thead>\n",
       "  <tbody>\n",
       "    <tr>\n",
       "      <th>City</th>\n",
       "      <td>London</td>\n",
       "      <td>Berlin</td>\n",
       "      <td>Madrid</td>\n",
       "      <td>Rome</td>\n",
       "      <td>Paris</td>\n",
       "      <td>Vienna</td>\n",
       "      <td>Bucharest</td>\n",
       "      <td>Hamburg</td>\n",
       "      <td>Budapest</td>\n",
       "      <td>Warsaw</td>\n",
       "      <td>Barcelona</td>\n",
       "      <td>Munich</td>\n",
       "      <td>Milan</td>\n",
       "    </tr>\n",
       "    <tr>\n",
       "      <th>population</th>\n",
       "      <td>8615246</td>\n",
       "      <td>3562166</td>\n",
       "      <td>3165235</td>\n",
       "      <td>2874038</td>\n",
       "      <td>2273305</td>\n",
       "      <td>1805681</td>\n",
       "      <td>1803425</td>\n",
       "      <td>1760433</td>\n",
       "      <td>1754000</td>\n",
       "      <td>1740119</td>\n",
       "      <td>1602386</td>\n",
       "      <td>1493900</td>\n",
       "      <td>1350680</td>\n",
       "    </tr>\n",
       "    <tr>\n",
       "      <th>country</th>\n",
       "      <td>England</td>\n",
       "      <td>Germany</td>\n",
       "      <td>Spain</td>\n",
       "      <td>Italy</td>\n",
       "      <td>France</td>\n",
       "      <td>Austria</td>\n",
       "      <td>Romania</td>\n",
       "      <td>Germany</td>\n",
       "      <td>Hungary</td>\n",
       "      <td>Poland</td>\n",
       "      <td>Spain</td>\n",
       "      <td>Germany</td>\n",
       "      <td>Italy</td>\n",
       "    </tr>\n",
       "  </tbody>\n",
       "</table>\n",
       "</div>"
      ],
      "text/plain": [
       "                 0        1        2        3        4        5          6   \\\n",
       "City         London   Berlin   Madrid     Rome    Paris   Vienna  Bucharest   \n",
       "population  8615246  3562166  3165235  2874038  2273305  1805681    1803425   \n",
       "country     England  Germany    Spain    Italy   France  Austria    Romania   \n",
       "\n",
       "                 7         8        9          10       11       12  \n",
       "City        Hamburg  Budapest   Warsaw  Barcelona   Munich    Milan  \n",
       "population  1760433   1754000  1740119    1602386  1493900  1350680  \n",
       "country     Germany   Hungary   Poland      Spain  Germany    Italy  "
      ]
     },
     "execution_count": 70,
     "metadata": {},
     "output_type": "execute_result"
    }
   ],
   "source": [
    "pd.DataFrame.from_dict(cities,orient='index')"
   ]
  },
  {
   "cell_type": "code",
   "execution_count": 71,
   "id": "844e0012",
   "metadata": {},
   "outputs": [
    {
     "data": {
      "text/plain": [
       "Index(['City', 'population', 'country'], dtype='object')"
      ]
     },
     "execution_count": 71,
     "metadata": {},
     "output_type": "execute_result"
    }
   ],
   "source": [
    "df.columns"
   ]
  },
  {
   "cell_type": "code",
   "execution_count": 72,
   "id": "5820df33",
   "metadata": {},
   "outputs": [
    {
     "data": {
      "text/html": [
       "<div>\n",
       "<style scoped>\n",
       "    .dataframe tbody tr th:only-of-type {\n",
       "        vertical-align: middle;\n",
       "    }\n",
       "\n",
       "    .dataframe tbody tr th {\n",
       "        vertical-align: top;\n",
       "    }\n",
       "\n",
       "    .dataframe thead th {\n",
       "        text-align: right;\n",
       "    }\n",
       "</style>\n",
       "<table border=\"1\" class=\"dataframe\">\n",
       "  <thead>\n",
       "    <tr style=\"text-align: right;\">\n",
       "      <th></th>\n",
       "      <th>country</th>\n",
       "      <th>City</th>\n",
       "      <th>population</th>\n",
       "    </tr>\n",
       "  </thead>\n",
       "  <tbody>\n",
       "    <tr>\n",
       "      <th>0</th>\n",
       "      <td>England</td>\n",
       "      <td>London</td>\n",
       "      <td>8615246</td>\n",
       "    </tr>\n",
       "    <tr>\n",
       "      <th>1</th>\n",
       "      <td>Germany</td>\n",
       "      <td>Berlin</td>\n",
       "      <td>3562166</td>\n",
       "    </tr>\n",
       "    <tr>\n",
       "      <th>2</th>\n",
       "      <td>Spain</td>\n",
       "      <td>Madrid</td>\n",
       "      <td>3165235</td>\n",
       "    </tr>\n",
       "    <tr>\n",
       "      <th>3</th>\n",
       "      <td>Italy</td>\n",
       "      <td>Rome</td>\n",
       "      <td>2874038</td>\n",
       "    </tr>\n",
       "    <tr>\n",
       "      <th>4</th>\n",
       "      <td>France</td>\n",
       "      <td>Paris</td>\n",
       "      <td>2273305</td>\n",
       "    </tr>\n",
       "    <tr>\n",
       "      <th>5</th>\n",
       "      <td>Austria</td>\n",
       "      <td>Vienna</td>\n",
       "      <td>1805681</td>\n",
       "    </tr>\n",
       "    <tr>\n",
       "      <th>6</th>\n",
       "      <td>Romania</td>\n",
       "      <td>Bucharest</td>\n",
       "      <td>1803425</td>\n",
       "    </tr>\n",
       "    <tr>\n",
       "      <th>7</th>\n",
       "      <td>Germany</td>\n",
       "      <td>Hamburg</td>\n",
       "      <td>1760433</td>\n",
       "    </tr>\n",
       "    <tr>\n",
       "      <th>8</th>\n",
       "      <td>Hungary</td>\n",
       "      <td>Budapest</td>\n",
       "      <td>1754000</td>\n",
       "    </tr>\n",
       "    <tr>\n",
       "      <th>9</th>\n",
       "      <td>Poland</td>\n",
       "      <td>Warsaw</td>\n",
       "      <td>1740119</td>\n",
       "    </tr>\n",
       "    <tr>\n",
       "      <th>10</th>\n",
       "      <td>Spain</td>\n",
       "      <td>Barcelona</td>\n",
       "      <td>1602386</td>\n",
       "    </tr>\n",
       "    <tr>\n",
       "      <th>11</th>\n",
       "      <td>Germany</td>\n",
       "      <td>Munich</td>\n",
       "      <td>1493900</td>\n",
       "    </tr>\n",
       "    <tr>\n",
       "      <th>12</th>\n",
       "      <td>Italy</td>\n",
       "      <td>Milan</td>\n",
       "      <td>1350680</td>\n",
       "    </tr>\n",
       "  </tbody>\n",
       "</table>\n",
       "</div>"
      ],
      "text/plain": [
       "    country       City  population\n",
       "0   England     London     8615246\n",
       "1   Germany     Berlin     3562166\n",
       "2     Spain     Madrid     3165235\n",
       "3     Italy       Rome     2874038\n",
       "4    France      Paris     2273305\n",
       "5   Austria     Vienna     1805681\n",
       "6   Romania  Bucharest     1803425\n",
       "7   Germany    Hamburg     1760433\n",
       "8   Hungary   Budapest     1754000\n",
       "9    Poland     Warsaw     1740119\n",
       "10    Spain  Barcelona     1602386\n",
       "11  Germany     Munich     1493900\n",
       "12    Italy      Milan     1350680"
      ]
     },
     "execution_count": 72,
     "metadata": {},
     "output_type": "execute_result"
    }
   ],
   "source": [
    "df.reindex(columns=['country','City','population'])"
   ]
  },
  {
   "cell_type": "code",
   "execution_count": 73,
   "id": "55bfe415",
   "metadata": {},
   "outputs": [
    {
     "data": {
      "text/html": [
       "<div>\n",
       "<style scoped>\n",
       "    .dataframe tbody tr th:only-of-type {\n",
       "        vertical-align: middle;\n",
       "    }\n",
       "\n",
       "    .dataframe tbody tr th {\n",
       "        vertical-align: top;\n",
       "    }\n",
       "\n",
       "    .dataframe thead th {\n",
       "        text-align: right;\n",
       "    }\n",
       "</style>\n",
       "<table border=\"1\" class=\"dataframe\">\n",
       "  <thead>\n",
       "    <tr style=\"text-align: right;\">\n",
       "      <th></th>\n",
       "      <th>City</th>\n",
       "      <th>population</th>\n",
       "    </tr>\n",
       "    <tr>\n",
       "      <th>country</th>\n",
       "      <th></th>\n",
       "      <th></th>\n",
       "    </tr>\n",
       "  </thead>\n",
       "  <tbody>\n",
       "    <tr>\n",
       "      <th>England</th>\n",
       "      <td>London</td>\n",
       "      <td>8615246</td>\n",
       "    </tr>\n",
       "    <tr>\n",
       "      <th>Germany</th>\n",
       "      <td>Berlin</td>\n",
       "      <td>3562166</td>\n",
       "    </tr>\n",
       "    <tr>\n",
       "      <th>Spain</th>\n",
       "      <td>Madrid</td>\n",
       "      <td>3165235</td>\n",
       "    </tr>\n",
       "    <tr>\n",
       "      <th>Italy</th>\n",
       "      <td>Rome</td>\n",
       "      <td>2874038</td>\n",
       "    </tr>\n",
       "    <tr>\n",
       "      <th>France</th>\n",
       "      <td>Paris</td>\n",
       "      <td>2273305</td>\n",
       "    </tr>\n",
       "    <tr>\n",
       "      <th>Austria</th>\n",
       "      <td>Vienna</td>\n",
       "      <td>1805681</td>\n",
       "    </tr>\n",
       "    <tr>\n",
       "      <th>Romania</th>\n",
       "      <td>Bucharest</td>\n",
       "      <td>1803425</td>\n",
       "    </tr>\n",
       "    <tr>\n",
       "      <th>Germany</th>\n",
       "      <td>Hamburg</td>\n",
       "      <td>1760433</td>\n",
       "    </tr>\n",
       "    <tr>\n",
       "      <th>Hungary</th>\n",
       "      <td>Budapest</td>\n",
       "      <td>1754000</td>\n",
       "    </tr>\n",
       "    <tr>\n",
       "      <th>Poland</th>\n",
       "      <td>Warsaw</td>\n",
       "      <td>1740119</td>\n",
       "    </tr>\n",
       "    <tr>\n",
       "      <th>Spain</th>\n",
       "      <td>Barcelona</td>\n",
       "      <td>1602386</td>\n",
       "    </tr>\n",
       "    <tr>\n",
       "      <th>Germany</th>\n",
       "      <td>Munich</td>\n",
       "      <td>1493900</td>\n",
       "    </tr>\n",
       "    <tr>\n",
       "      <th>Italy</th>\n",
       "      <td>Milan</td>\n",
       "      <td>1350680</td>\n",
       "    </tr>\n",
       "  </tbody>\n",
       "</table>\n",
       "</div>"
      ],
      "text/plain": [
       "              City  population\n",
       "country                       \n",
       "England     London     8615246\n",
       "Germany     Berlin     3562166\n",
       "Spain       Madrid     3165235\n",
       "Italy         Rome     2874038\n",
       "France       Paris     2273305\n",
       "Austria     Vienna     1805681\n",
       "Romania  Bucharest     1803425\n",
       "Germany    Hamburg     1760433\n",
       "Hungary   Budapest     1754000\n",
       "Poland      Warsaw     1740119\n",
       "Spain    Barcelona     1602386\n",
       "Germany     Munich     1493900\n",
       "Italy        Milan     1350680"
      ]
     },
     "execution_count": 73,
     "metadata": {},
     "output_type": "execute_result"
    }
   ],
   "source": [
    "df=df.set_index(\"country\")\n",
    "df"
   ]
  },
  {
   "cell_type": "code",
   "execution_count": 76,
   "id": "b37ef849",
   "metadata": {},
   "outputs": [
    {
     "data": {
      "text/html": [
       "<div>\n",
       "<style scoped>\n",
       "    .dataframe tbody tr th:only-of-type {\n",
       "        vertical-align: middle;\n",
       "    }\n",
       "\n",
       "    .dataframe tbody tr th {\n",
       "        vertical-align: top;\n",
       "    }\n",
       "\n",
       "    .dataframe thead th {\n",
       "        text-align: right;\n",
       "    }\n",
       "</style>\n",
       "<table border=\"1\" class=\"dataframe\">\n",
       "  <thead>\n",
       "    <tr style=\"text-align: right;\">\n",
       "      <th></th>\n",
       "      <th>City</th>\n",
       "      <th>population</th>\n",
       "    </tr>\n",
       "    <tr>\n",
       "      <th>country</th>\n",
       "      <th></th>\n",
       "      <th></th>\n",
       "    </tr>\n",
       "  </thead>\n",
       "  <tbody>\n",
       "    <tr>\n",
       "      <th>Germany</th>\n",
       "      <td>Berlin</td>\n",
       "      <td>3562166</td>\n",
       "    </tr>\n",
       "    <tr>\n",
       "      <th>Germany</th>\n",
       "      <td>Hamburg</td>\n",
       "      <td>1760433</td>\n",
       "    </tr>\n",
       "    <tr>\n",
       "      <th>Germany</th>\n",
       "      <td>Munich</td>\n",
       "      <td>1493900</td>\n",
       "    </tr>\n",
       "    <tr>\n",
       "      <th>France</th>\n",
       "      <td>Paris</td>\n",
       "      <td>2273305</td>\n",
       "    </tr>\n",
       "  </tbody>\n",
       "</table>\n",
       "</div>"
      ],
      "text/plain": [
       "            City  population\n",
       "country                     \n",
       "Germany   Berlin     3562166\n",
       "Germany  Hamburg     1760433\n",
       "Germany   Munich     1493900\n",
       "France     Paris     2273305"
      ]
     },
     "execution_count": 76,
     "metadata": {},
     "output_type": "execute_result"
    }
   ],
   "source": [
    "df.loc[[\"Germany\",\"France\"]]"
   ]
  },
  {
   "cell_type": "code",
   "execution_count": 78,
   "id": "83b1ac94",
   "metadata": {},
   "outputs": [
    {
     "name": "stdout",
     "output_type": "stream",
     "text": [
      "<class 'pandas.core.series.Series'>\n"
     ]
    }
   ],
   "source": [
    "print(type(df.population))"
   ]
  },
  {
   "cell_type": "code",
   "execution_count": 77,
   "id": "d8b7bd53",
   "metadata": {},
   "outputs": [
    {
     "data": {
      "text/plain": [
       "country\n",
       "England     True\n",
       "Germany     True\n",
       "Spain       True\n",
       "Italy       True\n",
       "France      True\n",
       "Austria    False\n",
       "Romania    False\n",
       "Germany    False\n",
       "Hungary    False\n",
       "Poland     False\n",
       "Spain      False\n",
       "Germany    False\n",
       "Italy      False\n",
       "Name: population, dtype: bool"
      ]
     },
     "execution_count": 77,
     "metadata": {},
     "output_type": "execute_result"
    }
   ],
   "source": [
    "condition=df.population > 2000000\n",
    "condition"
   ]
  },
  {
   "cell_type": "code",
   "execution_count": 79,
   "id": "4fa4093b",
   "metadata": {},
   "outputs": [
    {
     "data": {
      "text/html": [
       "<div>\n",
       "<style scoped>\n",
       "    .dataframe tbody tr th:only-of-type {\n",
       "        vertical-align: middle;\n",
       "    }\n",
       "\n",
       "    .dataframe tbody tr th {\n",
       "        vertical-align: top;\n",
       "    }\n",
       "\n",
       "    .dataframe thead th {\n",
       "        text-align: right;\n",
       "    }\n",
       "</style>\n",
       "<table border=\"1\" class=\"dataframe\">\n",
       "  <thead>\n",
       "    <tr style=\"text-align: right;\">\n",
       "      <th></th>\n",
       "      <th>City</th>\n",
       "      <th>population</th>\n",
       "    </tr>\n",
       "    <tr>\n",
       "      <th>country</th>\n",
       "      <th></th>\n",
       "      <th></th>\n",
       "    </tr>\n",
       "  </thead>\n",
       "  <tbody>\n",
       "    <tr>\n",
       "      <th>England</th>\n",
       "      <td>London</td>\n",
       "      <td>8615246</td>\n",
       "    </tr>\n",
       "    <tr>\n",
       "      <th>Germany</th>\n",
       "      <td>Berlin</td>\n",
       "      <td>3562166</td>\n",
       "    </tr>\n",
       "    <tr>\n",
       "      <th>Spain</th>\n",
       "      <td>Madrid</td>\n",
       "      <td>3165235</td>\n",
       "    </tr>\n",
       "    <tr>\n",
       "      <th>Italy</th>\n",
       "      <td>Rome</td>\n",
       "      <td>2874038</td>\n",
       "    </tr>\n",
       "    <tr>\n",
       "      <th>France</th>\n",
       "      <td>Paris</td>\n",
       "      <td>2273305</td>\n",
       "    </tr>\n",
       "  </tbody>\n",
       "</table>\n",
       "</div>"
      ],
      "text/plain": [
       "           City  population\n",
       "country                    \n",
       "England  London     8615246\n",
       "Germany  Berlin     3562166\n",
       "Spain    Madrid     3165235\n",
       "Italy      Rome     2874038\n",
       "France    Paris     2273305"
      ]
     },
     "execution_count": 79,
     "metadata": {},
     "output_type": "execute_result"
    }
   ],
   "source": [
    "df.loc[condition]"
   ]
  },
  {
   "cell_type": "code",
   "execution_count": 82,
   "id": "e35e1fb2",
   "metadata": {},
   "outputs": [
    {
     "data": {
      "text/html": [
       "<div>\n",
       "<style scoped>\n",
       "    .dataframe tbody tr th:only-of-type {\n",
       "        vertical-align: middle;\n",
       "    }\n",
       "\n",
       "    .dataframe tbody tr th {\n",
       "        vertical-align: top;\n",
       "    }\n",
       "\n",
       "    .dataframe thead th {\n",
       "        text-align: right;\n",
       "    }\n",
       "</style>\n",
       "<table border=\"1\" class=\"dataframe\">\n",
       "  <thead>\n",
       "    <tr style=\"text-align: right;\">\n",
       "      <th></th>\n",
       "      <th>City</th>\n",
       "      <th>population</th>\n",
       "    </tr>\n",
       "    <tr>\n",
       "      <th>country</th>\n",
       "      <th></th>\n",
       "      <th></th>\n",
       "    </tr>\n",
       "  </thead>\n",
       "  <tbody>\n",
       "    <tr>\n",
       "      <th>Austria</th>\n",
       "      <td>Vienna</td>\n",
       "      <td>1805681</td>\n",
       "    </tr>\n",
       "    <tr>\n",
       "      <th>Romania</th>\n",
       "      <td>Bucharest</td>\n",
       "      <td>1803425</td>\n",
       "    </tr>\n",
       "    <tr>\n",
       "      <th>Germany</th>\n",
       "      <td>Hamburg</td>\n",
       "      <td>1760433</td>\n",
       "    </tr>\n",
       "    <tr>\n",
       "      <th>Hungary</th>\n",
       "      <td>Budapest</td>\n",
       "      <td>1754000</td>\n",
       "    </tr>\n",
       "    <tr>\n",
       "      <th>Poland</th>\n",
       "      <td>Warsaw</td>\n",
       "      <td>1740119</td>\n",
       "    </tr>\n",
       "    <tr>\n",
       "      <th>Spain</th>\n",
       "      <td>Barcelona</td>\n",
       "      <td>1602386</td>\n",
       "    </tr>\n",
       "    <tr>\n",
       "      <th>Germany</th>\n",
       "      <td>Munich</td>\n",
       "      <td>1493900</td>\n",
       "    </tr>\n",
       "    <tr>\n",
       "      <th>Italy</th>\n",
       "      <td>Milan</td>\n",
       "      <td>1350680</td>\n",
       "    </tr>\n",
       "  </tbody>\n",
       "</table>\n",
       "</div>"
      ],
      "text/plain": [
       "              City  population\n",
       "country                       \n",
       "Austria     Vienna     1805681\n",
       "Romania  Bucharest     1803425\n",
       "Germany    Hamburg     1760433\n",
       "Hungary   Budapest     1754000\n",
       "Poland      Warsaw     1740119\n",
       "Spain    Barcelona     1602386\n",
       "Germany     Munich     1493900\n",
       "Italy        Milan     1350680"
      ]
     },
     "execution_count": 82,
     "metadata": {},
     "output_type": "execute_result"
    }
   ],
   "source": [
    "df.loc[ ~ condition]"
   ]
  },
  {
   "cell_type": "code",
   "execution_count": 83,
   "id": "13d28051",
   "metadata": {},
   "outputs": [
    {
     "data": {
      "text/html": [
       "<div>\n",
       "<style scoped>\n",
       "    .dataframe tbody tr th:only-of-type {\n",
       "        vertical-align: middle;\n",
       "    }\n",
       "\n",
       "    .dataframe tbody tr th {\n",
       "        vertical-align: top;\n",
       "    }\n",
       "\n",
       "    .dataframe thead th {\n",
       "        text-align: right;\n",
       "    }\n",
       "</style>\n",
       "<table border=\"1\" class=\"dataframe\">\n",
       "  <thead>\n",
       "    <tr style=\"text-align: right;\">\n",
       "      <th></th>\n",
       "      <th>City</th>\n",
       "      <th>population</th>\n",
       "    </tr>\n",
       "    <tr>\n",
       "      <th>country</th>\n",
       "      <th></th>\n",
       "      <th></th>\n",
       "    </tr>\n",
       "  </thead>\n",
       "  <tbody>\n",
       "    <tr>\n",
       "      <th>Germany</th>\n",
       "      <td>Berlin</td>\n",
       "      <td>3562166</td>\n",
       "    </tr>\n",
       "    <tr>\n",
       "      <th>Spain</th>\n",
       "      <td>Madrid</td>\n",
       "      <td>3165235</td>\n",
       "    </tr>\n",
       "    <tr>\n",
       "      <th>France</th>\n",
       "      <td>Paris</td>\n",
       "      <td>2273305</td>\n",
       "    </tr>\n",
       "  </tbody>\n",
       "</table>\n",
       "</div>"
      ],
      "text/plain": [
       "           City  population\n",
       "country                    \n",
       "Germany  Berlin     3562166\n",
       "Spain    Madrid     3165235\n",
       "France    Paris     2273305"
      ]
     },
     "execution_count": 83,
     "metadata": {},
     "output_type": "execute_result"
    }
   ],
   "source": [
    "condition2=df['City'].str.contains('r')\n",
    "df.loc[condition & condition2]"
   ]
  },
  {
   "cell_type": "code",
   "execution_count": 84,
   "id": "9479cbbf",
   "metadata": {},
   "outputs": [
    {
     "data": {
      "text/html": [
       "<div>\n",
       "<style scoped>\n",
       "    .dataframe tbody tr th:only-of-type {\n",
       "        vertical-align: middle;\n",
       "    }\n",
       "\n",
       "    .dataframe tbody tr th {\n",
       "        vertical-align: top;\n",
       "    }\n",
       "\n",
       "    .dataframe thead th {\n",
       "        text-align: right;\n",
       "    }\n",
       "</style>\n",
       "<table border=\"1\" class=\"dataframe\">\n",
       "  <thead>\n",
       "    <tr style=\"text-align: right;\">\n",
       "      <th></th>\n",
       "      <th>City</th>\n",
       "      <th>population</th>\n",
       "    </tr>\n",
       "    <tr>\n",
       "      <th>country</th>\n",
       "      <th></th>\n",
       "      <th></th>\n",
       "    </tr>\n",
       "  </thead>\n",
       "  <tbody>\n",
       "    <tr>\n",
       "      <th>England</th>\n",
       "      <td>London</td>\n",
       "      <td>8615246</td>\n",
       "    </tr>\n",
       "    <tr>\n",
       "      <th>Germany</th>\n",
       "      <td>Berlin</td>\n",
       "      <td>3562166</td>\n",
       "    </tr>\n",
       "    <tr>\n",
       "      <th>Spain</th>\n",
       "      <td>Madrid</td>\n",
       "      <td>3165235</td>\n",
       "    </tr>\n",
       "    <tr>\n",
       "      <th>Italy</th>\n",
       "      <td>Rome</td>\n",
       "      <td>2874038</td>\n",
       "    </tr>\n",
       "    <tr>\n",
       "      <th>France</th>\n",
       "      <td>Paris</td>\n",
       "      <td>2273305</td>\n",
       "    </tr>\n",
       "    <tr>\n",
       "      <th>Austria</th>\n",
       "      <td>Vienna</td>\n",
       "      <td>1805681</td>\n",
       "    </tr>\n",
       "    <tr>\n",
       "      <th>Romania</th>\n",
       "      <td>Bucharest</td>\n",
       "      <td>1803425</td>\n",
       "    </tr>\n",
       "    <tr>\n",
       "      <th>Germany</th>\n",
       "      <td>Hamburg</td>\n",
       "      <td>1760433</td>\n",
       "    </tr>\n",
       "    <tr>\n",
       "      <th>Hungary</th>\n",
       "      <td>Budapest</td>\n",
       "      <td>1754000</td>\n",
       "    </tr>\n",
       "    <tr>\n",
       "      <th>Poland</th>\n",
       "      <td>Warsaw</td>\n",
       "      <td>1740119</td>\n",
       "    </tr>\n",
       "    <tr>\n",
       "      <th>Spain</th>\n",
       "      <td>Barcelona</td>\n",
       "      <td>1602386</td>\n",
       "    </tr>\n",
       "    <tr>\n",
       "      <th>Germany</th>\n",
       "      <td>Munich</td>\n",
       "      <td>1493900</td>\n",
       "    </tr>\n",
       "    <tr>\n",
       "      <th>Italy</th>\n",
       "      <td>milan</td>\n",
       "      <td>123456</td>\n",
       "    </tr>\n",
       "  </tbody>\n",
       "</table>\n",
       "</div>"
      ],
      "text/plain": [
       "              City  population\n",
       "country                       \n",
       "England     London     8615246\n",
       "Germany     Berlin     3562166\n",
       "Spain       Madrid     3165235\n",
       "Italy         Rome     2874038\n",
       "France       Paris     2273305\n",
       "Austria     Vienna     1805681\n",
       "Romania  Bucharest     1803425\n",
       "Germany    Hamburg     1760433\n",
       "Hungary   Budapest     1754000\n",
       "Poland      Warsaw     1740119\n",
       "Spain    Barcelona     1602386\n",
       "Germany     Munich     1493900\n",
       "Italy        milan      123456"
      ]
     },
     "execution_count": 84,
     "metadata": {},
     "output_type": "execute_result"
    }
   ],
   "source": [
    "milan=['milan',123456]\n",
    "df.iloc[-1]=milan\n",
    "df\n"
   ]
  },
  {
   "cell_type": "code",
   "execution_count": 85,
   "id": "9842bc65",
   "metadata": {},
   "outputs": [
    {
     "data": {
      "text/html": [
       "<div>\n",
       "<style scoped>\n",
       "    .dataframe tbody tr th:only-of-type {\n",
       "        vertical-align: middle;\n",
       "    }\n",
       "\n",
       "    .dataframe tbody tr th {\n",
       "        vertical-align: top;\n",
       "    }\n",
       "\n",
       "    .dataframe thead th {\n",
       "        text-align: right;\n",
       "    }\n",
       "</style>\n",
       "<table border=\"1\" class=\"dataframe\">\n",
       "  <thead>\n",
       "    <tr style=\"text-align: right;\">\n",
       "      <th></th>\n",
       "      <th>City</th>\n",
       "      <th>population</th>\n",
       "    </tr>\n",
       "    <tr>\n",
       "      <th>country</th>\n",
       "      <th></th>\n",
       "      <th></th>\n",
       "    </tr>\n",
       "  </thead>\n",
       "  <tbody>\n",
       "    <tr>\n",
       "      <th>England</th>\n",
       "      <td>London</td>\n",
       "      <td>8615246</td>\n",
       "    </tr>\n",
       "    <tr>\n",
       "      <th>Italy</th>\n",
       "      <td>Rome</td>\n",
       "      <td>2874038</td>\n",
       "    </tr>\n",
       "    <tr>\n",
       "      <th>Romania</th>\n",
       "      <td>Bucharest</td>\n",
       "      <td>1803425</td>\n",
       "    </tr>\n",
       "  </tbody>\n",
       "</table>\n",
       "</div>"
      ],
      "text/plain": [
       "              City  population\n",
       "country                       \n",
       "England     London     8615246\n",
       "Italy         Rome     2874038\n",
       "Romania  Bucharest     1803425"
      ]
     },
     "execution_count": 85,
     "metadata": {},
     "output_type": "execute_result"
    }
   ],
   "source": [
    "df.iloc[[0,3,6]]\n",
    "\n",
    "#loc use for access by label \n",
    "#iloc use for access by indexdf"
   ]
  },
  {
   "cell_type": "code",
   "execution_count": 86,
   "id": "a6df0eed",
   "metadata": {},
   "outputs": [
    {
     "data": {
      "text/html": [
       "<div>\n",
       "<style scoped>\n",
       "    .dataframe tbody tr th:only-of-type {\n",
       "        vertical-align: middle;\n",
       "    }\n",
       "\n",
       "    .dataframe tbody tr th {\n",
       "        vertical-align: top;\n",
       "    }\n",
       "\n",
       "    .dataframe thead th {\n",
       "        text-align: right;\n",
       "    }\n",
       "</style>\n",
       "<table border=\"1\" class=\"dataframe\">\n",
       "  <thead>\n",
       "    <tr style=\"text-align: right;\">\n",
       "      <th></th>\n",
       "      <th>City</th>\n",
       "      <th>population</th>\n",
       "    </tr>\n",
       "    <tr>\n",
       "      <th>country</th>\n",
       "      <th></th>\n",
       "      <th></th>\n",
       "    </tr>\n",
       "  </thead>\n",
       "  <tbody>\n",
       "    <tr>\n",
       "      <th>England</th>\n",
       "      <td>London</td>\n",
       "      <td>8615246</td>\n",
       "    </tr>\n",
       "    <tr>\n",
       "      <th>Germany</th>\n",
       "      <td>Berlin</td>\n",
       "      <td>3562166</td>\n",
       "    </tr>\n",
       "    <tr>\n",
       "      <th>Spain</th>\n",
       "      <td>Madrid</td>\n",
       "      <td>3165235</td>\n",
       "    </tr>\n",
       "    <tr>\n",
       "      <th>Italy</th>\n",
       "      <td>Rome</td>\n",
       "      <td>2874038</td>\n",
       "    </tr>\n",
       "    <tr>\n",
       "      <th>France</th>\n",
       "      <td>Paris</td>\n",
       "      <td>2273305</td>\n",
       "    </tr>\n",
       "  </tbody>\n",
       "</table>\n",
       "</div>"
      ],
      "text/plain": [
       "           City  population\n",
       "country                    \n",
       "England  London     8615246\n",
       "Germany  Berlin     3562166\n",
       "Spain    Madrid     3165235\n",
       "Italy      Rome     2874038\n",
       "France    Paris     2273305"
      ]
     },
     "execution_count": 86,
     "metadata": {},
     "output_type": "execute_result"
    }
   ],
   "source": [
    "df.head(5)"
   ]
  },
  {
   "cell_type": "code",
   "execution_count": 91,
   "id": "69600f67",
   "metadata": {},
   "outputs": [
    {
     "data": {
      "text/html": [
       "<div>\n",
       "<style scoped>\n",
       "    .dataframe tbody tr th:only-of-type {\n",
       "        vertical-align: middle;\n",
       "    }\n",
       "\n",
       "    .dataframe tbody tr th {\n",
       "        vertical-align: top;\n",
       "    }\n",
       "\n",
       "    .dataframe thead th {\n",
       "        text-align: right;\n",
       "    }\n",
       "</style>\n",
       "<table border=\"1\" class=\"dataframe\">\n",
       "  <thead>\n",
       "    <tr style=\"text-align: right;\">\n",
       "      <th></th>\n",
       "      <th>name</th>\n",
       "      <th>x</th>\n",
       "      <th>y</th>\n",
       "    </tr>\n",
       "  </thead>\n",
       "  <tbody>\n",
       "    <tr>\n",
       "      <th>0</th>\n",
       "      <td>name0</td>\n",
       "      <td>2</td>\n",
       "      <td>2</td>\n",
       "    </tr>\n",
       "    <tr>\n",
       "      <th>1</th>\n",
       "      <td>name1</td>\n",
       "      <td>3</td>\n",
       "      <td>0</td>\n",
       "    </tr>\n",
       "    <tr>\n",
       "      <th>2</th>\n",
       "      <td>name2</td>\n",
       "      <td>9</td>\n",
       "      <td>2</td>\n",
       "    </tr>\n",
       "    <tr>\n",
       "      <th>3</th>\n",
       "      <td>name3</td>\n",
       "      <td>8</td>\n",
       "      <td>9</td>\n",
       "    </tr>\n",
       "    <tr>\n",
       "      <th>4</th>\n",
       "      <td>name4</td>\n",
       "      <td>9</td>\n",
       "      <td>2</td>\n",
       "    </tr>\n",
       "    <tr>\n",
       "      <th>5</th>\n",
       "      <td>name5</td>\n",
       "      <td>8</td>\n",
       "      <td>5</td>\n",
       "    </tr>\n",
       "    <tr>\n",
       "      <th>6</th>\n",
       "      <td>name6</td>\n",
       "      <td>6</td>\n",
       "      <td>4</td>\n",
       "    </tr>\n",
       "    <tr>\n",
       "      <th>7</th>\n",
       "      <td>name7</td>\n",
       "      <td>5</td>\n",
       "      <td>1</td>\n",
       "    </tr>\n",
       "    <tr>\n",
       "      <th>8</th>\n",
       "      <td>name8</td>\n",
       "      <td>1</td>\n",
       "      <td>1</td>\n",
       "    </tr>\n",
       "    <tr>\n",
       "      <th>9</th>\n",
       "      <td>name9</td>\n",
       "      <td>2</td>\n",
       "      <td>0</td>\n",
       "    </tr>\n",
       "  </tbody>\n",
       "</table>\n",
       "</div>"
      ],
      "text/plain": [
       "    name  x  y\n",
       "0  name0  2  2\n",
       "1  name1  3  0\n",
       "2  name2  9  2\n",
       "3  name3  8  9\n",
       "4  name4  9  2\n",
       "5  name5  8  5\n",
       "6  name6  6  4\n",
       "7  name7  5  1\n",
       "8  name8  1  1\n",
       "9  name9  2  0"
      ]
     },
     "execution_count": 91,
     "metadata": {},
     "output_type": "execute_result"
    }
   ],
   "source": [
    "df=pd.DataFrame(columns=['name','x','y'])\n",
    "for i in range(10):\n",
    "    df.loc[i]=['name'+ str(i)]+list(np.random.randint(10,size=2))\n",
    "df"
   ]
  },
  {
   "cell_type": "code",
   "execution_count": 92,
   "id": "c2a44f21",
   "metadata": {},
   "outputs": [
    {
     "data": {
      "text/html": [
       "<div>\n",
       "<style scoped>\n",
       "    .dataframe tbody tr th:only-of-type {\n",
       "        vertical-align: middle;\n",
       "    }\n",
       "\n",
       "    .dataframe tbody tr th {\n",
       "        vertical-align: top;\n",
       "    }\n",
       "\n",
       "    .dataframe thead th {\n",
       "        text-align: right;\n",
       "    }\n",
       "</style>\n",
       "<table border=\"1\" class=\"dataframe\">\n",
       "  <thead>\n",
       "    <tr style=\"text-align: right;\">\n",
       "      <th></th>\n",
       "      <th>0</th>\n",
       "      <th>1</th>\n",
       "      <th>2</th>\n",
       "      <th>3</th>\n",
       "      <th>4</th>\n",
       "      <th>5</th>\n",
       "      <th>6</th>\n",
       "      <th>7</th>\n",
       "      <th>8</th>\n",
       "      <th>9</th>\n",
       "    </tr>\n",
       "  </thead>\n",
       "  <tbody>\n",
       "    <tr>\n",
       "      <th>name</th>\n",
       "      <td>name0</td>\n",
       "      <td>name1</td>\n",
       "      <td>name2</td>\n",
       "      <td>name3</td>\n",
       "      <td>name4</td>\n",
       "      <td>name5</td>\n",
       "      <td>name6</td>\n",
       "      <td>name7</td>\n",
       "      <td>name8</td>\n",
       "      <td>name9</td>\n",
       "    </tr>\n",
       "    <tr>\n",
       "      <th>x</th>\n",
       "      <td>2</td>\n",
       "      <td>3</td>\n",
       "      <td>9</td>\n",
       "      <td>8</td>\n",
       "      <td>9</td>\n",
       "      <td>8</td>\n",
       "      <td>6</td>\n",
       "      <td>5</td>\n",
       "      <td>1</td>\n",
       "      <td>2</td>\n",
       "    </tr>\n",
       "    <tr>\n",
       "      <th>y</th>\n",
       "      <td>2</td>\n",
       "      <td>0</td>\n",
       "      <td>2</td>\n",
       "      <td>9</td>\n",
       "      <td>2</td>\n",
       "      <td>5</td>\n",
       "      <td>4</td>\n",
       "      <td>1</td>\n",
       "      <td>1</td>\n",
       "      <td>0</td>\n",
       "    </tr>\n",
       "  </tbody>\n",
       "</table>\n",
       "</div>"
      ],
      "text/plain": [
       "          0      1      2      3      4      5      6      7      8      9\n",
       "name  name0  name1  name2  name3  name4  name5  name6  name7  name8  name9\n",
       "x         2      3      9      8      9      8      6      5      1      2\n",
       "y         2      0      2      9      2      5      4      1      1      0"
      ]
     },
     "execution_count": 92,
     "metadata": {},
     "output_type": "execute_result"
    }
   ],
   "source": [
    "df.T"
   ]
  },
  {
   "cell_type": "code",
   "execution_count": 95,
   "id": "fe6e27c8",
   "metadata": {},
   "outputs": [
    {
     "data": {
      "text/html": [
       "<div>\n",
       "<style scoped>\n",
       "    .dataframe tbody tr th:only-of-type {\n",
       "        vertical-align: middle;\n",
       "    }\n",
       "\n",
       "    .dataframe tbody tr th {\n",
       "        vertical-align: top;\n",
       "    }\n",
       "\n",
       "    .dataframe thead th {\n",
       "        text-align: right;\n",
       "    }\n",
       "</style>\n",
       "<table border=\"1\" class=\"dataframe\">\n",
       "  <thead>\n",
       "    <tr style=\"text-align: right;\">\n",
       "      <th></th>\n",
       "      <th>name</th>\n",
       "      <th>x</th>\n",
       "      <th>y</th>\n",
       "    </tr>\n",
       "  </thead>\n",
       "  <tbody>\n",
       "    <tr>\n",
       "      <th>0</th>\n",
       "      <td>vasu</td>\n",
       "      <td>2</td>\n",
       "      <td>2</td>\n",
       "    </tr>\n",
       "    <tr>\n",
       "      <th>1</th>\n",
       "      <td>sarthak</td>\n",
       "      <td>3</td>\n",
       "      <td>0</td>\n",
       "    </tr>\n",
       "    <tr>\n",
       "      <th>2</th>\n",
       "      <td>name2</td>\n",
       "      <td>9</td>\n",
       "      <td>2</td>\n",
       "    </tr>\n",
       "    <tr>\n",
       "      <th>3</th>\n",
       "      <td>name3</td>\n",
       "      <td>8</td>\n",
       "      <td>9</td>\n",
       "    </tr>\n",
       "    <tr>\n",
       "      <th>4</th>\n",
       "      <td>name4</td>\n",
       "      <td>9</td>\n",
       "      <td>2</td>\n",
       "    </tr>\n",
       "    <tr>\n",
       "      <th>5</th>\n",
       "      <td>name5</td>\n",
       "      <td>8</td>\n",
       "      <td>5</td>\n",
       "    </tr>\n",
       "    <tr>\n",
       "      <th>6</th>\n",
       "      <td>name6</td>\n",
       "      <td>6</td>\n",
       "      <td>4</td>\n",
       "    </tr>\n",
       "    <tr>\n",
       "      <th>7</th>\n",
       "      <td>name7</td>\n",
       "      <td>5</td>\n",
       "      <td>1</td>\n",
       "    </tr>\n",
       "    <tr>\n",
       "      <th>8</th>\n",
       "      <td>name8</td>\n",
       "      <td>1</td>\n",
       "      <td>1</td>\n",
       "    </tr>\n",
       "    <tr>\n",
       "      <th>9</th>\n",
       "      <td>name9</td>\n",
       "      <td>2</td>\n",
       "      <td>0</td>\n",
       "    </tr>\n",
       "  </tbody>\n",
       "</table>\n",
       "</div>"
      ],
      "text/plain": [
       "      name  x  y\n",
       "0     vasu  2  2\n",
       "1  sarthak  3  0\n",
       "2    name2  9  2\n",
       "3    name3  8  9\n",
       "4    name4  9  2\n",
       "5    name5  8  5\n",
       "6    name6  6  4\n",
       "7    name7  5  1\n",
       "8    name8  1  1\n",
       "9    name9  2  0"
      ]
     },
     "execution_count": 95,
     "metadata": {},
     "output_type": "execute_result"
    }
   ],
   "source": [
    "df.replace(to_replace={'name':{\"name0\":\"vasu\",\"name1\":\"sarthak\"}})"
   ]
  },
  {
   "cell_type": "raw",
   "id": "cbdd480e",
   "metadata": {},
   "source": []
  },
  {
   "cell_type": "code",
   "execution_count": 99,
   "id": "fdbcb093",
   "metadata": {},
   "outputs": [
    {
     "data": {
      "text/plain": [
       "mangoes     1\n",
       "oranges    10\n",
       "apple      19\n",
       "apple      10\n",
       "mangoes     4\n",
       "apple      14\n",
       "oranges    18\n",
       "apple      12\n",
       "mangoes     6\n",
       "mangoes    15\n",
       "dtype: int32"
      ]
     },
     "execution_count": 99,
     "metadata": {},
     "output_type": "execute_result"
    }
   ],
   "source": [
    "value=np.random.randint(1,20,(30,))\n",
    "fruits=[\"apple\",\"mangoes\",\"oranges\",\"watermelon\"]\n",
    "fruits_index=np.random.choice(fruits,(30,))\n",
    "s=pd.Series(value,fruits_index)\n",
    "s[:10]"
   ]
  },
  {
   "cell_type": "code",
   "execution_count": 100,
   "id": "0549250e",
   "metadata": {},
   "outputs": [
    {
     "name": "stdout",
     "output_type": "stream",
     "text": [
      "====apple====\n",
      "apple    19\n",
      "apple    10\n",
      "apple    14\n",
      "apple    12\n",
      "apple    18\n",
      "apple     9\n",
      "apple    16\n",
      "dtype: int32\n",
      "====mangoes====\n",
      "mangoes     1\n",
      "mangoes     4\n",
      "mangoes     6\n",
      "mangoes    15\n",
      "mangoes     4\n",
      "mangoes     1\n",
      "mangoes    14\n",
      "dtype: int32\n",
      "====oranges====\n",
      "oranges    10\n",
      "oranges    18\n",
      "oranges    15\n",
      "oranges    16\n",
      "oranges    10\n",
      "oranges    10\n",
      "oranges     7\n",
      "oranges     9\n",
      "oranges     6\n",
      "dtype: int32\n",
      "====watermelon====\n",
      "watermelon     2\n",
      "watermelon     6\n",
      "watermelon    10\n",
      "watermelon     1\n",
      "watermelon     3\n",
      "watermelon    11\n",
      "watermelon    15\n",
      "dtype: int32\n"
     ]
    }
   ],
   "source": [
    "grouped=s.groupby(s.index)\n",
    "for fruit,obj in grouped:\n",
    "    print(f\"===={fruit}====\")\n",
    "    print(obj)"
   ]
  },
  {
   "cell_type": "code",
   "execution_count": null,
   "id": "61caaa51",
   "metadata": {},
   "outputs": [],
   "source": []
  }
 ],
 "metadata": {
  "kernelspec": {
   "display_name": "Python 3 (ipykernel)",
   "language": "python",
   "name": "python3"
  },
  "language_info": {
   "codemirror_mode": {
    "name": "ipython",
    "version": 3
   },
   "file_extension": ".py",
   "mimetype": "text/x-python",
   "name": "python",
   "nbconvert_exporter": "python",
   "pygments_lexer": "ipython3",
   "version": "3.11.3"
  }
 },
 "nbformat": 4,
 "nbformat_minor": 5
}
